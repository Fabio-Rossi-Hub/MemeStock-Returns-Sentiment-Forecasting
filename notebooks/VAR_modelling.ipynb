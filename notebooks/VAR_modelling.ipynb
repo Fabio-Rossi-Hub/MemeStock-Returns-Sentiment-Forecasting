{
 "cells": [
  {
   "cell_type": "markdown",
   "id": "51a136da",
   "metadata": {},
   "source": [
    "# VAR modeling \n",
    "To assess the relationship between Wallstreetbest sentiment and stock's data, we will use VAR models. \n",
    "\n",
    "The VAR model is a statistical model for forecasting time series data. The difference between VAR and other time series models like ARIMA, ARMA or GARCH, is that VAR allows for multivariate analysis, and can also be used with exogenous variables(pretty much timeseries modeling for endogenous and common regression for exogenous)."
   ]
  },
  {
   "cell_type": "code",
   "execution_count": 81,
   "id": "57a65e63",
   "metadata": {
    "vscode": {
     "languageId": "r"
    }
   },
   "outputs": [],
   "source": [
    "library(tidyverse);\n",
    "library(recipes);\n",
    "library(caret);\n",
    "library(xts);\n",
    "library(MTS);\n",
    "library(tseries);\n",
    "library(forecast);\n",
    "library(vars);\n",
    "library(lmtest);\n",
    "library(quantmod);"
   ]
  },
  {
   "cell_type": "markdown",
   "id": "73e449fc",
   "metadata": {},
   "source": [
    "Before training our model we need to deal with Null values by inputing the three missing values. Since our data is sequential, and we already have few observations, I prefered not to discard the row contsining the null values.\n",
    "When fitting a VAR model we usually don't need to scale our variables so we will keep them as they are.\n",
    "\n",
    "Some of the variables are highly correlated, for example r and logr represent the same thing, so we will keep only r for the sake of interpretability, logr might come handy in the furure to fit a GARCH model."
   ]
  },
  {
   "cell_type": "code",
   "execution_count": 82,
   "id": "bafcaa84",
   "metadata": {
    "vscode": {
     "languageId": "r"
    }
   },
   "outputs": [
    {
     "data": {
      "text/html": [
       "<table class=\"dataframe\">\n",
       "<caption>A matrix: 4 × 4 of type dbl</caption>\n",
       "<thead>\n",
       "\t<tr><th></th><th scope=col>r</th><th scope=col>d_vol</th><th scope=col>sent_avg</th><th scope=col>eng_var</th></tr>\n",
       "</thead>\n",
       "<tbody>\n",
       "\t<tr><th scope=row>r</th><td> 1.000000000</td><td>-0.17776102</td><td>-0.04069812</td><td>-0.005044788</td></tr>\n",
       "\t<tr><th scope=row>d_vol</th><td>-0.177761017</td><td> 1.00000000</td><td>-0.11355839</td><td>-0.075933816</td></tr>\n",
       "\t<tr><th scope=row>sent_avg</th><td>-0.040698121</td><td>-0.11355839</td><td> 1.00000000</td><td>-0.034962281</td></tr>\n",
       "\t<tr><th scope=row>eng_var</th><td>-0.005044788</td><td>-0.07593382</td><td>-0.03496228</td><td> 1.000000000</td></tr>\n",
       "</tbody>\n",
       "</table>\n"
      ],
      "text/latex": [
       "A matrix: 4 × 4 of type dbl\n",
       "\\begin{tabular}{r|llll}\n",
       "  & r & d\\_vol & sent\\_avg & eng\\_var\\\\\n",
       "\\hline\n",
       "\tr &  1.000000000 & -0.17776102 & -0.04069812 & -0.005044788\\\\\n",
       "\td\\_vol & -0.177761017 &  1.00000000 & -0.11355839 & -0.075933816\\\\\n",
       "\tsent\\_avg & -0.040698121 & -0.11355839 &  1.00000000 & -0.034962281\\\\\n",
       "\teng\\_var & -0.005044788 & -0.07593382 & -0.03496228 &  1.000000000\\\\\n",
       "\\end{tabular}\n"
      ],
      "text/markdown": [
       "\n",
       "A matrix: 4 × 4 of type dbl\n",
       "\n",
       "| <!--/--> | r | d_vol | sent_avg | eng_var |\n",
       "|---|---|---|---|---|\n",
       "| r |  1.000000000 | -0.17776102 | -0.04069812 | -0.005044788 |\n",
       "| d_vol | -0.177761017 |  1.00000000 | -0.11355839 | -0.075933816 |\n",
       "| sent_avg | -0.040698121 | -0.11355839 |  1.00000000 | -0.034962281 |\n",
       "| eng_var | -0.005044788 | -0.07593382 | -0.03496228 |  1.000000000 |\n",
       "\n"
      ],
      "text/plain": [
       "         r            d_vol       sent_avg    eng_var     \n",
       "r         1.000000000 -0.17776102 -0.04069812 -0.005044788\n",
       "d_vol    -0.177761017  1.00000000 -0.11355839 -0.075933816\n",
       "sent_avg -0.040698121 -0.11355839  1.00000000 -0.034962281\n",
       "eng_var  -0.005044788 -0.07593382 -0.03496228  1.000000000"
      ]
     },
     "metadata": {},
     "output_type": "display_data"
    },
    {
     "data": {
      "image/png": "[encoded data removed]",
      "text/plain": [
       "plot without title"
      ]
     },
     "metadata": {
      "image/png": {
       "height": 420,
       "width": 420
      }
     },
     "output_type": "display_data"
    }
   ],
   "source": [
    "r50 <- read.csv(file = \"../data/r50_2023.csv\",\n",
    "                header = TRUE,\n",
    "                sep = \",\",\n",
    "                dec = \".\")\n",
    "\n",
    "# Center and scale\n",
    "recipe <-\n",
    "    recipe(~., data = r50) %>%\n",
    "    step_impute_mean(all_numeric()) %>%\n",
    "    step_select(-c(X, timestamp)) \n",
    "\n",
    "recipe <- prep(recipe, training = r50)\n",
    "\n",
    "r50_clean <- bake(recipe, r50)\n",
    "\n",
    "heatmap(cor(r50_clean))\n",
    "\n",
    "r50_clean <- subset(r50_clean, select = -c(logr, d_logvol))\n",
    "    \n",
    "r50_clean <- r50_clean[c( \"r\", \"d_vol\", \"sent_avg\", \"sent_var\", \"eng_avg\", \"eng_var\", \"engsent_avg\", \"engsent_var\")] \n",
    "\n",
    "cor(r50_clean)\n",
    "\n"
   ]
  },
  {
   "cell_type": "markdown",
   "id": "51a8a952",
   "metadata": {},
   "source": [
    "One of the key assumptions of VAR is the stationarity of the data, that is, that the time series have costant mean, costant variance and costant autocovariance. To make it simple, we don't want to have patterns or long term trends, but we want our time series to behave in a similar manner across different periods. \n",
    "\n",
    "We can assess stationarity by rejecting the null hypothesis of the Augmented Dickey-Fuller (ADF) test. In the table below we can see that all our feature are stationary, while sent_var might not be stationary. Due to the p-value we can assume that it should be stationary."
   ]
  },
  {
   "cell_type": "code",
   "execution_count": 83,
   "id": "2c47a168",
   "metadata": {
    "vscode": {
     "languageId": "r"
    }
   },
   "outputs": [
    {
     "data": {
      "text/html": [
       "<table class=\"dataframe\">\n",
       "<caption>A data.frame: 4 × 2</caption>\n",
       "<thead>\n",
       "\t<tr><th></th><th scope=col>Variable</th><th scope=col>P_Value</th></tr>\n",
       "\t<tr><th></th><th scope=col>&lt;chr&gt;</th><th scope=col>&lt;dbl&gt;</th></tr>\n",
       "</thead>\n",
       "<tbody>\n",
       "\t<tr><th scope=row>1</th><td>r       </td><td>0.01</td></tr>\n",
       "\t<tr><th scope=row>2</th><td>d_vol   </td><td>0.01</td></tr>\n",
       "\t<tr><th scope=row>3</th><td>sent_avg</td><td>0.01</td></tr>\n",
       "\t<tr><th scope=row>4</th><td>eng_var </td><td>0.01</td></tr>\n",
       "</tbody>\n",
       "</table>\n"
      ],
      "text/latex": [
       "A data.frame: 4 × 2\n",
       "\\begin{tabular}{r|ll}\n",
       "  & Variable & P\\_Value\\\\\n",
       "  & <chr> & <dbl>\\\\\n",
       "\\hline\n",
       "\t1 & r        & 0.01\\\\\n",
       "\t2 & d\\_vol    & 0.01\\\\\n",
       "\t3 & sent\\_avg & 0.01\\\\\n",
       "\t4 & eng\\_var  & 0.01\\\\\n",
       "\\end{tabular}\n"
      ],
      "text/markdown": [
       "\n",
       "A data.frame: 4 × 2\n",
       "\n",
       "| <!--/--> | Variable &lt;chr&gt; | P_Value &lt;dbl&gt; |\n",
       "|---|---|---|\n",
       "| 1 | r        | 0.01 |\n",
       "| 2 | d_vol    | 0.01 |\n",
       "| 3 | sent_avg | 0.01 |\n",
       "| 4 | eng_var  | 0.01 |\n",
       "\n"
      ],
      "text/plain": [
       "  Variable P_Value\n",
       "1 r        0.01   \n",
       "2 d_vol    0.01   \n",
       "3 sent_avg 0.01   \n",
       "4 eng_var  0.01   "
      ]
     },
     "metadata": {},
     "output_type": "display_data"
    }
   ],
   "source": [
    "variables <- colnames(r50_clean)\n",
    "\n",
    "adf_results <- data.frame(Variable = character(length(variables)), ADF_pValue = numeric(length(variables)))\n",
    "\n",
    "# Perform the adf test to all variables\n",
    "for (i in seq_along(variables)) {\n",
    "    suppressWarnings(adf_result <- adf.test(r50_clean[[variables[i]]]))\n",
    "    adf_results[i, \"Variable\"] <- variables[i]\n",
    "    adf_results[i, \"P_Value\"] <- adf_result$p.value\n",
    "}\n",
    "\n",
    "# Print the variable names and p-values of adf test\n",
    "head(adf_results[, c(\"Variable\", \"P_Value\")],10)\n"
   ]
  },
  {
   "cell_type": "markdown",
   "id": "05635a13",
   "metadata": {},
   "source": [
    "Once we have checked that the time series respect the model assumptions we can prepare the dataset fot training and testing. We will have different datasets for VAR and VARX, this because VARX needs an additional dataset input for exogenolus variables, that will be treated like normal estimators, without taking into account their lag. In orderot explore the impact of sentiment we will analyse it both as endogenous and as exogenous variables."
   ]
  },
  {
   "cell_type": "code",
   "execution_count": 84,
   "metadata": {
    "vscode": {
     "languageId": "r"
    }
   },
   "outputs": [],
   "source": [
    "# Train/Test split\n",
    "idx <- round(nrow(r50_clean) * 0.9)\n",
    "\n",
    "df_train <- head(r50_clean, idx) %>% na.omit()\n",
    "df_test <- tail(r50_clean,\n",
    "            nrow(r50_clean) - idx) %>%\n",
    "            na.omit()\n",
    "\n",
    "# Set r and d_vol as endogenous variables\n",
    "endogenous <- c(\"r\", \"d_vol\")\n",
    "\n",
    "# Set sentiment variables as exogenous\n",
    "exogenous <- c(\"sent_avg\", \"eng_var\")\n",
    "\n",
    "# VARX Exogenous\n",
    "df_ex_train <- df_train[exogenous]\n",
    "df_ex_test <- df_test[exogenous] \n",
    "\n",
    "# VARX Endogenous\n",
    "df_end_train <- df_train[endogenous]\n",
    "df_end_test <- df_test[endogenous]"
   ]
  },
  {
   "cell_type": "markdown",
   "id": "58c0cef0",
   "metadata": {},
   "source": [
    "Now that we have our training data, we can find the optimal number of lags to fit our model. VARoder and VARoderI both provide an insight on which is the bets lag, with the first one using statistical tests, the latter using impulse response functions. \n",
    "\n",
    "Both "
   ]
  },
  {
   "cell_type": "code",
   "execution_count": 85,
   "id": "84f08b8e",
   "metadata": {
    "vscode": {
     "languageId": "r"
    }
   },
   "outputs": [
    {
     "name": "stdout",
     "output_type": "stream",
     "text": [
      "selected order: aic =  2 \n",
      "selected order: bic =  0 \n",
      "selected order: hq =  0 \n",
      "Summary table:  \n",
      "       p     AIC     BIC      HQ    M(p) p-value\n",
      " [1,]  0 -7.3403 -7.3403 -7.3403  0.0000  0.0000\n",
      " [2,]  1 -7.3184 -6.9211 -7.1573 25.3779  0.0634\n",
      " [3,]  2 -7.4039 -6.6092 -7.0817 33.7921  0.0058\n",
      " [4,]  3 -7.2125 -6.0204 -6.7292  8.8608  0.9190\n",
      " [5,]  4 -7.1125 -5.5231 -6.4680 15.7991  0.4671\n",
      " [6,]  5 -7.1231 -5.1364 -6.3176 23.4809  0.1015\n",
      " [7,]  6 -6.9900 -4.6059 -6.0233 11.8291  0.7557\n",
      " [8,]  7 -6.8908 -4.1093 -5.7630 13.5000  0.6359\n",
      " [9,]  8 -6.8963 -3.7174 -5.6074 19.4655  0.2453\n",
      "[10,]  9 -6.9680 -3.3919 -5.5180 22.2682  0.1347\n",
      "[11,] 10 -6.9922 -3.0186 -5.3810 18.1043  0.3178\n",
      "selected order: aic =  0 \n",
      "selected order: bic =  0 \n",
      "selected order: hq =  0 \n",
      "M statistic and its p-value \n",
      "       Mstat      pv\n",
      " [1,] 21.335 0.16600\n",
      " [2,] 30.717 0.01462\n",
      " [3,]  6.606 0.98013\n",
      " [4,] 14.144 0.58801\n",
      " [5,] 18.352 0.30369\n",
      " [6,]  8.700 0.92524\n",
      " [7,] 26.525 0.04707\n",
      " [8,] 19.740 0.23216\n",
      " [9,] 20.853 0.18424\n",
      "[10,] 18.457 0.29782\n",
      "Summary table:  \n",
      "       p     AIC     BIC      HQ    M(p)  p-value\n",
      " [1,]  0 -7.3990 -7.3990 -7.3990  0.0000 0.000000\n",
      " [2,]  1 -7.3306 -6.9309 -7.1686 21.3348 0.165999\n",
      " [3,]  2 -7.3730 -6.5689 -7.0471 30.7166 0.014622\n",
      " [4,]  3 -7.1406 -5.9274 -6.6490  6.6062 0.980126\n",
      " [5,]  4 -6.9998 -5.3725 -6.3406 14.1437 0.588008\n",
      " [6,]  5 -6.9171 -4.8707 -6.0882 18.3520 0.303688\n",
      " [7,]  6 -6.7082 -4.2376 -5.7077  8.7004 0.925237\n",
      " [8,]  7 -6.7599 -3.8600 -5.5859 26.5250 0.047074\n",
      " [9,]  8 -6.7238 -3.3892 -5.3742 19.7399 0.232163\n",
      "[10,]  9 -6.7194 -2.9446 -5.1921 20.8527 0.184244\n",
      "[11,] 10 -6.6898 -2.4695 -4.9828 18.4570 0.297825\n"
     ]
    },
    {
     "data": {
      "text/html": [
       "<dl>\n",
       "\t<dt>$selection</dt>\n",
       "\t\t<dd><style>\n",
       ".dl-inline {width: auto; margin:0; padding: 0}\n",
       ".dl-inline>dt, .dl-inline>dd {float: none; width: auto; display: inline-block}\n",
       ".dl-inline>dt::after {content: \":\\0020\"; padding-right: .5ex}\n",
       ".dl-inline>dt:not(:first-of-type) {padding-left: .5ex}\n",
       "</style><dl class=dl-inline><dt>AIC(n)</dt><dd>1</dd><dt>HQ(n)</dt><dd>1</dd><dt>SC(n)</dt><dd>1</dd><dt>FPE(n)</dt><dd>1</dd></dl>\n",
       "</dd>\n",
       "\t<dt>$criteria</dt>\n",
       "\t\t<dd><table class=\"dataframe\">\n",
       "<caption>A matrix: 4 × 10 of type dbl</caption>\n",
       "<thead>\n",
       "\t<tr><th></th><th scope=col>1</th><th scope=col>2</th><th scope=col>3</th><th scope=col>4</th><th scope=col>5</th><th scope=col>6</th><th scope=col>7</th><th scope=col>8</th><th scope=col>9</th><th scope=col>10</th></tr>\n",
       "</thead>\n",
       "<tbody>\n",
       "\t<tr><th scope=row>AIC(n)</th><td>-1.131372e+01</td><td>-1.129705e+01</td><td>-1.123863e+01</td><td>-1.123555e+01</td><td>-1.127764e+01</td><td>-1.129268e+01</td><td>-1.131001e+01</td><td>-1.127533e+01</td><td>-1.127382e+01</td><td>-1.120147e+01</td></tr>\n",
       "\t<tr><th scope=row>HQ(n)</th><td>-1.120703e+01</td><td>-1.114768e+01</td><td>-1.104659e+01</td><td>-1.100083e+01</td><td>-1.100024e+01</td><td>-1.097261e+01</td><td>-1.094726e+01</td><td>-1.086991e+01</td><td>-1.082572e+01</td><td>-1.071070e+01</td></tr>\n",
       "\t<tr><th scope=row>SC(n)</th><td>-1.104995e+01</td><td>-1.092776e+01</td><td>-1.076384e+01</td><td>-1.065525e+01</td><td>-1.059183e+01</td><td>-1.050137e+01</td><td>-1.041319e+01</td><td>-1.027300e+01</td><td>-1.016597e+01</td><td>-9.988119e+00</td></tr>\n",
       "\t<tr><th scope=row>FPE(n)</th><td> 1.220643e-05</td><td> 1.241558e-05</td><td> 1.316971e-05</td><td> 1.322172e-05</td><td> 1.269258e-05</td><td> 1.252439e-05</td><td> 1.233681e-05</td><td> 1.280862e-05</td><td> 1.287371e-05</td><td> 1.389972e-05</td></tr>\n",
       "</tbody>\n",
       "</table>\n",
       "</dd>\n",
       "</dl>\n"
      ],
      "text/latex": [
       "\\begin{description}\n",
       "\\item[\\$selection] \\begin{description*}\n",
       "\\item[AIC(n)] 1\n",
       "\\item[HQ(n)] 1\n",
       "\\item[SC(n)] 1\n",
       "\\item[FPE(n)] 1\n",
       "\\end{description*}\n",
       "\n",
       "\\item[\\$criteria] A matrix: 4 × 10 of type dbl\n",
       "\\begin{tabular}{r|llllllllll}\n",
       "  & 1 & 2 & 3 & 4 & 5 & 6 & 7 & 8 & 9 & 10\\\\\n",
       "\\hline\n",
       "\tAIC(n) & -1.131372e+01 & -1.129705e+01 & -1.123863e+01 & -1.123555e+01 & -1.127764e+01 & -1.129268e+01 & -1.131001e+01 & -1.127533e+01 & -1.127382e+01 & -1.120147e+01\\\\\n",
       "\tHQ(n) & -1.120703e+01 & -1.114768e+01 & -1.104659e+01 & -1.100083e+01 & -1.100024e+01 & -1.097261e+01 & -1.094726e+01 & -1.086991e+01 & -1.082572e+01 & -1.071070e+01\\\\\n",
       "\tSC(n) & -1.104995e+01 & -1.092776e+01 & -1.076384e+01 & -1.065525e+01 & -1.059183e+01 & -1.050137e+01 & -1.041319e+01 & -1.027300e+01 & -1.016597e+01 & -9.988119e+00\\\\\n",
       "\tFPE(n) &  1.220643e-05 &  1.241558e-05 &  1.316971e-05 &  1.322172e-05 &  1.269258e-05 &  1.252439e-05 &  1.233681e-05 &  1.280862e-05 &  1.287371e-05 &  1.389972e-05\\\\\n",
       "\\end{tabular}\n",
       "\n",
       "\\end{description}\n"
      ],
      "text/markdown": [
       "$selection\n",
       ":   AIC(n)\n",
       ":   1HQ(n)\n",
       ":   1SC(n)\n",
       ":   1FPE(n)\n",
       ":   1\n",
       "\n",
       "\n",
       "$criteria\n",
       ":   \n",
       "A matrix: 4 × 10 of type dbl\n",
       "\n",
       "| <!--/--> | 1 | 2 | 3 | 4 | 5 | 6 | 7 | 8 | 9 | 10 |\n",
       "|---|---|---|---|---|---|---|---|---|---|---|\n",
       "| AIC(n) | -1.131372e+01 | -1.129705e+01 | -1.123863e+01 | -1.123555e+01 | -1.127764e+01 | -1.129268e+01 | -1.131001e+01 | -1.127533e+01 | -1.127382e+01 | -1.120147e+01 |\n",
       "| HQ(n) | -1.120703e+01 | -1.114768e+01 | -1.104659e+01 | -1.100083e+01 | -1.100024e+01 | -1.097261e+01 | -1.094726e+01 | -1.086991e+01 | -1.082572e+01 | -1.071070e+01 |\n",
       "| SC(n) | -1.104995e+01 | -1.092776e+01 | -1.076384e+01 | -1.065525e+01 | -1.059183e+01 | -1.050137e+01 | -1.041319e+01 | -1.027300e+01 | -1.016597e+01 | -9.988119e+00 |\n",
       "| FPE(n) |  1.220643e-05 |  1.241558e-05 |  1.316971e-05 |  1.322172e-05 |  1.269258e-05 |  1.252439e-05 |  1.233681e-05 |  1.280862e-05 |  1.287371e-05 |  1.389972e-05 |\n",
       "\n",
       "\n",
       "\n",
       "\n"
      ],
      "text/plain": [
       "$selection\n",
       "AIC(n)  HQ(n)  SC(n) FPE(n) \n",
       "     1      1      1      1 \n",
       "\n",
       "$criteria\n",
       "                   1             2             3             4             5\n",
       "AIC(n) -1.131372e+01 -1.129705e+01 -1.123863e+01 -1.123555e+01 -1.127764e+01\n",
       "HQ(n)  -1.120703e+01 -1.114768e+01 -1.104659e+01 -1.100083e+01 -1.100024e+01\n",
       "SC(n)  -1.104995e+01 -1.092776e+01 -1.076384e+01 -1.065525e+01 -1.059183e+01\n",
       "FPE(n)  1.220643e-05  1.241558e-05  1.316971e-05  1.322172e-05  1.269258e-05\n",
       "                   6             7             8             9            10\n",
       "AIC(n) -1.129268e+01 -1.131001e+01 -1.127533e+01 -1.127382e+01 -1.120147e+01\n",
       "HQ(n)  -1.097261e+01 -1.094726e+01 -1.086991e+01 -1.082572e+01 -1.071070e+01\n",
       "SC(n)  -1.050137e+01 -1.041319e+01 -1.027300e+01 -1.016597e+01 -9.988119e+00\n",
       "FPE(n)  1.252439e-05  1.233681e-05  1.280862e-05  1.287371e-05  1.389972e-05\n"
      ]
     },
     "metadata": {},
     "output_type": "display_data"
    }
   ],
   "source": [
    "# Lag selection for VAR\n",
    "VARorder(df_train, 10)\n",
    "VARorderI(df_train, 10)\n",
    "\n",
    "# Lag selection for VARX\n",
    "VARselect(df_end_train, exogen = df_ex_train)"
   ]
  },
  {
   "cell_type": "markdown",
   "id": "47e6882d",
   "metadata": {},
   "source": [
    "Our first VAR model will have a ton of variables, because each of the lags of each feature will be a variable itself. So to reduce complexity we will just remove the variables whose coefficients have a p-value smaller than 0.05 and we will re-fit the model accordingly. Once we refined our model we can then check how returns are affected by sudden changes in sentiment.  "
   ]
  },
  {
   "cell_type": "code",
   "execution_count": 89,
   "id": "3fa9c1ae",
   "metadata": {
    "vscode": {
     "languageId": "r"
    }
   },
   "outputs": [
    {
     "data": {
      "text/plain": [
       "\n",
       "VAR Estimation Results:\n",
       "========================= \n",
       "Endogenous variables: r, d_vol, sent_avg, eng_var \n",
       "Deterministic variables: const \n",
       "Sample size: 106 \n",
       "Log Likelihood: -181.339 \n",
       "Roots of the characteristic polynomial:\n",
       "0.5081 0.5081 0.3661 0.3661 0.2824 0.2502 0.2502 4.762e-19\n",
       "Call:\n",
       "VAR(y = df_train, p = 2)\n",
       "\n",
       "\n",
       "Estimation results for equation r: \n",
       "================================== \n",
       "r = r.l1 + sent_avg.l1 + sent_avg.l2 \n",
       "\n",
       "              Estimate Std. Error t value Pr(>|t|)  \n",
       "r.l1        -0.1611647  0.0960061  -1.679   0.0962 .\n",
       "sent_avg.l1 -0.0002417  0.0002099  -1.151   0.2522  \n",
       "sent_avg.l2 -0.0002555  0.0002109  -1.211   0.2285  \n",
       "---\n",
       "Signif. codes:  0 '***' 0.001 '**' 0.01 '*' 0.05 '.' 0.1 ' ' 1\n",
       "\n",
       "\n",
       "Residual standard error: 0.01642 on 103 degrees of freedom\n",
       "Multiple R-Squared: 0.04733,\tAdjusted R-squared: 0.01958 \n",
       "F-statistic: 1.706 on 3 and 103 DF,  p-value: 0.1705 \n",
       "\n",
       "\n",
       "Estimation results for equation d_vol: \n",
       "====================================== \n",
       "d_vol = r.l1 + d_vol.l1 + sent_avg.l1 + eng_var.l1 + r.l2 + d_vol.l2 + sent_avg.l2 + eng_var.l2 \n",
       "\n",
       "             Estimate Std. Error t value Pr(>|t|)    \n",
       "r.l1        -1.718876   1.065456  -1.613 0.109900    \n",
       "d_vol.l1    -0.195030   0.093499  -2.086 0.039585 *  \n",
       "sent_avg.l1 -0.004326   0.002294  -1.885 0.062353 .  \n",
       "eng_var.l1   0.029344   0.015979   1.836 0.069338 .  \n",
       "r.l2        -1.981849   1.059879  -1.870 0.064485 .  \n",
       "d_vol.l2    -0.258202   0.091086  -2.835 0.005571 ** \n",
       "sent_avg.l2 -0.008185   0.002313  -3.539 0.000617 ***\n",
       "eng_var.l2   0.030815   0.015813   1.949 0.054186 .  \n",
       "---\n",
       "Signif. codes:  0 '***' 0.001 '**' 0.01 '*' 0.05 '.' 0.1 ' ' 1\n",
       "\n",
       "\n",
       "Residual standard error: 0.1743 on 98 degrees of freedom\n",
       "Multiple R-Squared: 0.2398,\tAdjusted R-squared: 0.1777 \n",
       "F-statistic: 3.864 on 8 and 98 DF,  p-value: 0.0005423 \n",
       "\n",
       "\n",
       "Estimation results for equation sent_avg: \n",
       "========================================= \n",
       "sent_avg = r.l1 + eng_var.l1 \n",
       "\n",
       "           Estimate Std. Error t value Pr(>|t|)\n",
       "r.l1       -53.6151    43.9909  -1.219    0.226\n",
       "eng_var.l1  -0.8027     0.6719  -1.195    0.235\n",
       "\n",
       "\n",
       "Residual standard error: 7.569 on 104 degrees of freedom\n",
       "Multiple R-Squared: 0.02727,\tAdjusted R-squared: 0.008562 \n",
       "F-statistic: 1.458 on 2 and 104 DF,  p-value: 0.2375 \n",
       "\n",
       "\n",
       "Estimation results for equation eng_var: \n",
       "======================================== \n",
       "eng_var = eng_var.l1 + r.l2 + const \n",
       "\n",
       "           Estimate Std. Error t value Pr(>|t|)    \n",
       "eng_var.l1 -0.30840    0.09199  -3.353 0.001120 ** \n",
       "r.l2       11.55362    5.80696   1.990 0.049284 *  \n",
       "const       0.34782    0.10066   3.455 0.000799 ***\n",
       "---\n",
       "Signif. codes:  0 '***' 0.001 '**' 0.01 '*' 0.05 '.' 0.1 ' ' 1\n",
       "\n",
       "\n",
       "Residual standard error: 1.004 on 103 degrees of freedom\n",
       "Multiple R-Squared: 0.1813,\tAdjusted R-squared: 0.1574 \n",
       "F-statistic: 7.601 on 3 and 103 DF,  p-value: 0.0001217 \n",
       "\n",
       "\n",
       "\n",
       "Covariance matrix of residuals:\n",
       "                  r      d_vol  sent_avg    eng_var\n",
       "r         0.0002861 -0.0008069 -0.009201 -0.0002043\n",
       "d_vol    -0.0008069  0.0306514 -0.206844 -0.0001300\n",
       "sent_avg -0.0092005 -0.2068442 61.209239 -0.6251253\n",
       "eng_var  -0.0002043 -0.0001300 -0.625125  1.0699977\n",
       "\n",
       "Correlation matrix of residuals:\n",
       "                r      d_vol sent_avg    eng_var\n",
       "r         1.00000 -0.2724742 -0.06953 -0.0116783\n",
       "d_vol    -0.27247  1.0000000 -0.15101 -0.0007178\n",
       "sent_avg -0.06953 -0.1510113  1.00000 -0.0772444\n",
       "eng_var  -0.01168 -0.0007178 -0.07724  1.0000000\n",
       "\n"
      ]
     },
     "metadata": {},
     "output_type": "display_data"
    },
    {
     "data": {
      "image/png": "[encoded data removed]",
      "text/plain": [
       "plot without title"
      ]
     },
     "metadata": {
      "image/png": {
       "height": 420,
       "width": 420
      }
     },
     "output_type": "display_data"
    },
    {
     "data": {
      "image/png": "[encoded data removed]",
      "text/plain": [
       "plot without title"
      ]
     },
     "metadata": {
      "image/png": {
       "height": 420,
       "width": 420
      }
     },
     "output_type": "display_data"
    },
    {
     "data": {
      "image/png": "[encoded data removed]",
      "text/plain": [
       "plot without title"
      ]
     },
     "metadata": {
      "image/png": {
       "height": 420,
       "width": 420
      }
     },
     "output_type": "display_data"
    },
    {
     "data": {
      "image/png": "[encoded data removed]",
      "text/plain": [
       "plot without title"
      ]
     },
     "metadata": {
      "image/png": {
       "height": 420,
       "width": 420
      }
     },
     "output_type": "display_data"
    }
   ],
   "source": [
    "var_1 <- VAR(df_train, p = 2)\n",
    "\n",
    "var_2 <- restrict(var_1,thresh = 1)\n",
    "summary(var_2)\n",
    "\n",
    "var_irf <- irf(var_2, response = \"r\")\n",
    "plot(var_irf)"
   ]
  },
  {
   "cell_type": "markdown",
   "id": "f5511894",
   "metadata": {},
   "source": [
    " "
   ]
  },
  {
   "cell_type": "code",
   "execution_count": 87,
   "id": "70290ba6",
   "metadata": {
    "vscode": {
     "languageId": "r"
    }
   },
   "outputs": [
    {
     "data": {
      "text/plain": [
       "\n",
       "VAR Estimation Results:\n",
       "========================= \n",
       "Endogenous variables: r, d_vol \n",
       "Deterministic variables: const \n",
       "Sample size: 101 \n",
       "Log Likelihood: 304.885 \n",
       "Roots of the characteristic polynomial:\n",
       "0.7849 0.7849 0.7849 0.7849 0.7424 0.7424 0.7424 0.7424 0.7424 0.7311 0.7311 3.221e-18     0     0\n",
       "Call:\n",
       "VAR(y = df_end_train, p = 7, exogen = df_ex_train)\n",
       "\n",
       "\n",
       "Estimation results for equation r: \n",
       "================================== \n",
       "r = r.l5 + d_vol.l7 \n",
       "\n",
       "          Estimate Std. Error t value Pr(>|t|)  \n",
       "r.l5     -0.225598   0.095542  -2.361   0.0202 *\n",
       "d_vol.l7 -0.020326   0.008321  -2.443   0.0163 *\n",
       "---\n",
       "Signif. codes:  0 '***' 0.001 '**' 0.01 '*' 0.05 '.' 0.1 ' ' 1\n",
       "\n",
       "\n",
       "Residual standard error: 0.0162 on 99 degrees of freedom\n",
       "Multiple R-Squared: 0.102,\tAdjusted R-squared: 0.08384 \n",
       "F-statistic: 5.621 on 2 and 99 DF,  p-value: 0.004871 \n",
       "\n",
       "\n",
       "Estimation results for equation d_vol: \n",
       "====================================== \n",
       "d_vol = d_vol.l2 + d_vol.l4 + d_vol.l6 \n",
       "\n",
       "         Estimate Std. Error t value Pr(>|t|)   \n",
       "d_vol.l2 -0.28466    0.09864  -2.886   0.0048 **\n",
       "d_vol.l4 -0.24603    0.09881  -2.490   0.0145 * \n",
       "d_vol.l6 -0.20286    0.09847  -2.060   0.0420 * \n",
       "---\n",
       "Signif. codes:  0 '***' 0.001 '**' 0.01 '*' 0.05 '.' 0.1 ' ' 1\n",
       "\n",
       "\n",
       "Residual standard error: 0.185 on 98 degrees of freedom\n",
       "Multiple R-Squared: 0.1194,\tAdjusted R-squared: 0.09244 \n",
       "F-statistic: 4.429 on 3 and 98 DF,  p-value: 0.00579 \n",
       "\n",
       "\n",
       "\n",
       "Covariance matrix of residuals:\n",
       "               r     d_vol\n",
       "r      0.0003095 -0.000724\n",
       "d_vol -0.0007240  0.039001\n",
       "\n",
       "Correlation matrix of residuals:\n",
       "            r   d_vol\n",
       "r      1.0000 -0.2084\n",
       "d_vol -0.2084  1.0000\n",
       "\n"
      ]
     },
     "metadata": {},
     "output_type": "display_data"
    }
   ],
   "source": [
    "#VARX model---------------\n",
    "\n",
    "x1 <- VAR(df_end_train, 7, exogen = df_ex_train)\n",
    "\n",
    "x2 <- restrict(x1, method = \"ser\")\n",
    "summary(x2)"
   ]
  }
 ],
 "metadata": {
  "kernelspec": {
   "display_name": "R",
   "language": "R",
   "name": "ir"
  },
  "language_info": {
   "codemirror_mode": "r",
   "file_extension": ".r",
   "mimetype": "text/x-r-source",
   "name": "R",
   "pygments_lexer": "r",
   "version": "4.1.3"
  }
 },
 "nbformat": 4,
 "nbformat_minor": 5
}
