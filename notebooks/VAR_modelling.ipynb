{
 "cells": [
  {
   "cell_type": "markdown",
   "id": "51a136da",
   "metadata": {},
   "source": [
    "# VAR modeling \n",
    "To assess the relationship between Wallstreetbest sentiment and stock's data, we will use VAR models. \n",
    "\n",
    "The VAR model is a statistical model for forecasting time series data. The difference between VAR and other time series models like ARIMA, ARMA or GARCH, is that VAR allows for multivariate analysis, and can also be used with exogenous variables(pretty much timeseries modeling for endogenous and common regression for exogenous)."
   ]
  },
  {
   "cell_type": "code",
   "execution_count": 3,
   "id": "57a65e63",
   "metadata": {
    "vscode": {
     "languageId": "r"
    }
   },
   "outputs": [
    {
     "name": "stderr",
     "output_type": "stream",
     "text": [
      "-- \u001b[1mAttaching packages\u001b[22m --------------------------------------- tidyverse 1.3.1 --\n",
      "\n",
      "\u001b[32mv\u001b[39m \u001b[34mggplot2\u001b[39m 3.3.5     \u001b[32mv\u001b[39m \u001b[34mpurrr  \u001b[39m 0.3.4\n",
      "\u001b[32mv\u001b[39m \u001b[34mtibble \u001b[39m 3.1.6     \u001b[32mv\u001b[39m \u001b[34mdplyr  \u001b[39m 1.0.8\n",
      "\u001b[32mv\u001b[39m \u001b[34mtidyr  \u001b[39m 1.2.0     \u001b[32mv\u001b[39m \u001b[34mstringr\u001b[39m 1.4.0\n",
      "\u001b[32mv\u001b[39m \u001b[34mreadr  \u001b[39m 2.1.2     \u001b[32mv\u001b[39m \u001b[34mforcats\u001b[39m 0.5.1\n",
      "\n",
      "-- \u001b[1mConflicts\u001b[22m ------------------------------------------ tidyverse_conflicts() --\n",
      "\u001b[31mx\u001b[39m \u001b[34mdplyr\u001b[39m::\u001b[32mfilter()\u001b[39m masks \u001b[34mstats\u001b[39m::filter()\n",
      "\u001b[31mx\u001b[39m \u001b[34mdplyr\u001b[39m::\u001b[32mlag()\u001b[39m    masks \u001b[34mstats\u001b[39m::lag()\n",
      "\n",
      "\n",
      "Caricamento pacchetto: 'recipes'\n",
      "\n",
      "\n",
      "Il seguente oggetto è mascherato da 'package:stringr':\n",
      "\n",
      "    fixed\n",
      "\n",
      "\n",
      "Il seguente oggetto è mascherato da 'package:stats':\n",
      "\n",
      "    step\n",
      "\n",
      "\n",
      "Caricamento del pacchetto richiesto: lattice\n",
      "\n",
      "\n",
      "Caricamento pacchetto: 'caret'\n",
      "\n",
      "\n",
      "Il seguente oggetto è mascherato da 'package:purrr':\n",
      "\n",
      "    lift\n",
      "\n",
      "\n",
      "Caricamento del pacchetto richiesto: zoo\n",
      "\n",
      "\n",
      "Caricamento pacchetto: 'zoo'\n",
      "\n",
      "\n",
      "I seguenti oggetti sono mascherati da 'package:base':\n",
      "\n",
      "    as.Date, as.Date.numeric\n",
      "\n",
      "\n",
      "\n",
      "Caricamento pacchetto: 'xts'\n",
      "\n",
      "\n",
      "I seguenti oggetti sono mascherati da 'package:dplyr':\n",
      "\n",
      "    first, last\n",
      "\n",
      "\n",
      "Registered S3 method overwritten by 'quantmod':\n",
      "  method            from\n",
      "  as.zoo.data.frame zoo \n",
      "\n",
      "Caricamento del pacchetto richiesto: MASS\n",
      "\n",
      "\n",
      "Caricamento pacchetto: 'MASS'\n",
      "\n",
      "\n",
      "Il seguente oggetto è mascherato da 'package:dplyr':\n",
      "\n",
      "    select\n",
      "\n",
      "\n",
      "Caricamento del pacchetto richiesto: strucchange\n",
      "\n",
      "Caricamento del pacchetto richiesto: sandwich\n",
      "\n",
      "\n",
      "Caricamento pacchetto: 'strucchange'\n",
      "\n",
      "\n",
      "Il seguente oggetto è mascherato da 'package:stringr':\n",
      "\n",
      "    boundary\n",
      "\n",
      "\n",
      "Caricamento del pacchetto richiesto: urca\n",
      "\n",
      "Caricamento del pacchetto richiesto: lmtest\n",
      "\n",
      "\n",
      "Caricamento pacchetto: 'vars'\n",
      "\n",
      "\n",
      "Il seguente oggetto è mascherato da 'package:MTS':\n",
      "\n",
      "    VAR\n",
      "\n",
      "\n"
     ]
    }
   ],
   "source": [
    "library(tidyverse);\n",
    "library(recipes)\n",
    "library(caret)\n",
    "library(xts)\n",
    "library(MTS)\n",
    "library(tseries)\n",
    "library(forecast)\n",
    "library(vars)\n",
    "library(lmtest)"
   ]
  },
  {
   "cell_type": "markdown",
   "id": "73e449fc",
   "metadata": {},
   "source": []
  },
  {
   "cell_type": "code",
   "execution_count": 2,
   "id": "bafcaa84",
   "metadata": {
    "vscode": {
     "languageId": "r"
    }
   },
   "outputs": [
    {
     "data": {
      "text/plain": [
       "       X          timestamp             score          comms_num      \n",
       " Min.   :    1   Length:17222       Min.   :     0   Min.   :    0.0  \n",
       " 1st Qu.: 4306   Class :character   1st Qu.:     4   1st Qu.:    5.0  \n",
       " Median : 8612   Mode  :character   Median :    58   Median :   25.0  \n",
       " Mean   : 8612                      Mean   :  1321   Mean   :  294.1  \n",
       " 3rd Qu.:12917                      3rd Qu.:   286   3rd Qu.:   83.0  \n",
       " Max.   :17222                      Max.   :225870   Max.   :93268.0  \n",
       "                                    NA's   :17       NA's   :17       \n",
       "   sentiment             r               logr             Dvol       \n",
       " Min.   :-1.0000   Min.   :-0.053   Min.   :-0.067   Min.   :-0.223  \n",
       " 1st Qu.:-0.1040   1st Qu.:-0.036   1st Qu.:-0.058   1st Qu.:-0.061  \n",
       " Median : 0.4680   Median :-0.003   Median :-0.003   Median :-0.020  \n",
       " Mean   : 0.2992   Mean   : 0.000   Mean   :-0.011   Mean   :   Inf  \n",
       " 3rd Qu.: 0.8730   3rd Qu.: 0.034   3rd Qu.: 0.022   3rd Qu.: 0.061  \n",
       " Max.   : 1.0000   Max.   : 0.091   Max.   : 0.069   Max.   :   Inf  \n",
       " NA's   :17        NA's   :3179     NA's   :3179     NA's   :3179    \n",
       "    logDvol      \n",
       " Min.   :  -Inf  \n",
       " 1st Qu.:-0.149  \n",
       " Median :-0.081  \n",
       " Mean   :   NaN  \n",
       " 3rd Qu.:-0.033  \n",
       " Max.   :   Inf  \n",
       " NA's   :3179    "
      ]
     },
     "metadata": {},
     "output_type": "display_data"
    },
    {
     "ename": "ERROR",
     "evalue": "Error in recipe(~., data = r50) %>% step_center(all_numeric()) %>% step_scale(all_numeric()): non trovo la funzione \"%>%\"\n",
     "output_type": "error",
     "traceback": [
      "Error in recipe(~., data = r50) %>% step_center(all_numeric()) %>% step_scale(all_numeric()): non trovo la funzione \"%>%\"\nTraceback:\n"
     ]
    }
   ],
   "source": [
    "r50 <- read.csv(file = \"../data/r50_2023.csv\",\n",
    "                header = TRUE,\n",
    "                sep = \",\",\n",
    "                dec = \".\")\n",
    "\n",
    "# Center and scale\n",
    "recipe <-\n",
    "    recipe(~., data = r50) %>%\n",
    "    step_center(all_numeric()) %>%\n",
    "    step_scale(all_numeric())\n",
    "\n",
    "recipe\n",
    "\n",
    "recipe <- prep(recipe, training = r50)\n",
    "\n",
    "r50_clean <- bake(recipe, r50)"
   ]
  },
  {
   "cell_type": "markdown",
   "id": "51a8a952",
   "metadata": {},
   "source": []
  }
 ],
 "metadata": {
  "kernelspec": {
   "display_name": "R",
   "language": "R",
   "name": "ir"
  },
  "language_info": {
   "codemirror_mode": "r",
   "file_extension": ".r",
   "mimetype": "text/x-r-source",
   "name": "R",
   "pygments_lexer": "r",
   "version": "4.1.3"
  }
 },
 "nbformat": 4,
 "nbformat_minor": 5
}
