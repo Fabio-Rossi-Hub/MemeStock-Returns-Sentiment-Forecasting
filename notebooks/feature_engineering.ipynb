{
 "cells": [
  {
   "attachments": {},
   "cell_type": "markdown",
   "id": "51a136da",
   "metadata": {},
   "source": [
    "# Feature Engineering\n",
    "The purpose of this section is to label each post with all the stock tickers mentioned inside, to explore the ditribution of stock mentions and to preprocess natural language for sentiment analysis."
   ]
  },
  {
   "cell_type": "code",
   "execution_count": 21,
   "id": "57a65e63",
   "metadata": {
    "vscode": {
     "languageId": "r"
    }
   },
   "outputs": [],
   "source": [
    "library(tidyverse);\n",
    "library(quantmod);\n",
    "library(tidyquant);"
   ]
  },
  {
   "attachments": {},
   "cell_type": "markdown",
   "id": "73e449fc",
   "metadata": {},
   "source": [
    "## Response variable creation: R50 index  \n",
    "As we previously saw, not all the stocks have enough observations to cover the entire observed period, so, instead of deleting most of the tickers, we will create an index that will represent the meme stocks as a whole. To do this we will create an index based on the 50 most popular stocks on Robinhood in march 2021, the R50. \n",
    "\n",
    "This is because Robinhood played a key role in the meme stocks phenomenon, as it allowed retail traders to trader extremely risky instruments with very low transaction fees, so it was the main broker utilized by the commuity(in fact there is a large overlap with the 50 most mentioned stocks). Robinhood was also in the center of a massive discussion when it halted the trading of Gamestop stocks for multiple times, making it an anthagonist to the Wallstreetbets subreddit.\n",
    "\n",
    "Note that some of the stocks included in the r50 are not listed anymore, but they are  included in the final calculations of r50.csv. "
   ]
  },
  {
   "cell_type": "code",
   "execution_count": 22,
   "id": "bafcaa84",
   "metadata": {
    "vscode": {
     "languageId": "r"
    }
   },
   "outputs": [],
   "source": [
    "# Read the CSV file \"vader_sentiment.csv\" into the wsb data frame\n",
    "wsb <- read.csv(file = \"../data/vader_sentiment.csv\",\n",
    "        header = TRUE,\n",
    "        sep = \",\",\n",
    "        dec = \".\")\n",
    "\n",
    "# Parse the timestamp column as dates\n",
    "wsb$timestamp <- parse_date(wsb$timestamp)\n",
    "\n",
    "# Select timestamp, number of comments, number of upvotes and sentiment and remove duplicate rows\n",
    "wsb <- wsb[c(5, 2, 4, 8)] %>% distinct()\n",
    "\n",
    "# Define a list of the 50 most popular stocks on Robinhood in March 2021\n",
    "r50 <- c(\"AAPL\", \"TSLA\", \"AMC\", \"SNDL\", \"F\", \"GE\", \"NIO\",\n",
    "        \"MSFT\", \"DIS\", \"AMZN\", \"NOK\", \"GME\", \"ZOM\",\n",
    "        \"AAL\", \"PLUG\", \"PFE\", \"ACB\", \"CCVI\", \"CCL\", \"GPRO\", \"DAL\",\n",
    "        \"OGI\", \"PLTR\", \"SNAP\", \"CTRM\", \"BABA\",\n",
    "        \"MRNA\", \"BAC\", \"NFLX\", \"BB\", \"CGC\", \"FCEL\", \"IDEX\",\n",
    "        \"AMD\", \"TLRY\", \"META\", \"NCLH\", \"T\", \"GM\",\n",
    "        \"SPCE\", \"UAL\", \"BA\", \"KO\", \"SBUX\", \"CRON\", \"WKHS\")#\"APHA\", \"NAKD\", \"TWTR\", \"ZNGA\"\n",
    "\n",
    "# Retrieve stock prices for r50 stocks\n",
    "stocks <- r50 %>%\n",
    "        tq_get(get = \"stock.prices\",\n",
    "                from = \"2021-01-27\",\n",
    "                to = \"2021-08-16\");\n"
   ]
  },
  {
   "attachments": {},
   "cell_type": "markdown",
   "id": "51a8a952",
   "metadata": {},
   "source": [
    "The weights of the stocks in the portfolio will be based on the number of mentions we calculated in data_processing.ipynb, in particular, we will model the weights using the mean and standard deviation of the number of mentions to model a log-normal distribution. Since the standard deviation is much larger than the mean we will log-transform the number of mentions.\n",
    "\n",
    "We will then have the top 10 most mentioned stock to weight around 60% of the index."
   ]
  },
  {
   "cell_type": "code",
   "execution_count": 23,
   "id": "5c4f0fbb",
   "metadata": {
    "vscode": {
     "languageId": "r"
    }
   },
   "outputs": [
    {
     "data": {
      "image/png": "[encoded data removed]",
      "text/plain": [
       "plot without title"
      ]
     },
     "metadata": {
      "image/png": {
       "height": 420,
       "width": 420
      }
     },
     "output_type": "display_data"
    }
   ],
   "source": [
    "weight <- 1 - plnorm(rep(2:47), meanlog = 1.297974, sdlog =1.298812)\n",
    "weight <- weight/sum(weight)\n",
    "plot(weight)\n",
    "\n",
    "# Create portfolio dataframe with r50 and weights\n",
    "pfolio <- cbind(r50,weight) %>% as.data.frame()"
   ]
  },
  {
   "attachments": {},
   "cell_type": "markdown",
   "id": "ee170911",
   "metadata": {},
   "source": [
    "The next step will be to create the r50 index by using the weights from the log normal distribution and the stock prices.\n",
    "After gatherimg this data we will be able to compute the returns and the change in volume of the index."
   ]
  },
  {
   "cell_type": "code",
   "execution_count": 24,
   "id": "95b7bd3b",
   "metadata": {
    "vscode": {
     "languageId": "r"
    }
   },
   "outputs": [
    {
     "data": {
      "text/html": [
       "<table class=\"dataframe\">\n",
       "<caption>A tibble: 6 × 7</caption>\n",
       "<thead>\n",
       "\t<tr><th scope=col>date</th><th scope=col>r50_close</th><th scope=col>r50_volume</th><th scope=col>r</th><th scope=col>logr</th><th scope=col>D_vol</th><th scope=col>logD_vol</th></tr>\n",
       "\t<tr><th scope=col>&lt;date&gt;</th><th scope=col>&lt;dbl&gt;</th><th scope=col>&lt;dbl&gt;</th><th scope=col>&lt;dbl[,1]&gt;</th><th scope=col>&lt;dbl[,1]&gt;</th><th scope=col>&lt;dbl[,1]&gt;</th><th scope=col>&lt;dbl[,1]&gt;</th></tr>\n",
       "</thead>\n",
       "<tbody>\n",
       "\t<tr><td>2021-01-28</td><td>89.54390</td><td>141633569</td><td>-0.0272334284</td><td>-0.0276111314</td><td>-0.30190740</td><td>-0.35940352</td></tr>\n",
       "\t<tr><td>2021-01-29</td><td>88.03582</td><td>124084114</td><td>-0.0168417996</td><td>-0.0169852355</td><td>-0.12390745</td><td>-0.13228355</td></tr>\n",
       "\t<tr><td>2021-02-01</td><td>90.16893</td><td>103476143</td><td> 0.0242300169</td><td> 0.0239411272</td><td>-0.16608066</td><td>-0.18161859</td></tr>\n",
       "\t<tr><td>2021-02-02</td><td>90.26785</td><td> 97226568</td><td> 0.0010969877</td><td> 0.0010963864</td><td>-0.06039629</td><td>-0.06229708</td></tr>\n",
       "\t<tr><td>2021-02-03</td><td>90.33416</td><td> 71477946</td><td> 0.0007346479</td><td> 0.0007343781</td><td>-0.26483113</td><td>-0.30765505</td></tr>\n",
       "\t<tr><td>2021-02-04</td><td>90.60450</td><td> 69402165</td><td> 0.0029926991</td><td> 0.0029882299</td><td>-0.02904087</td><td>-0.02947090</td></tr>\n",
       "</tbody>\n",
       "</table>\n"
      ],
      "text/latex": [
       "A tibble: 6 × 7\n",
       "\\begin{tabular}{lllllll}\n",
       " date & r50\\_close & r50\\_volume & r & logr & D\\_vol & logD\\_vol\\\\\n",
       " <date> & <dbl> & <dbl> & <dbl{[},1{]}> & <dbl{[},1{]}> & <dbl{[},1{]}> & <dbl{[},1{]}>\\\\\n",
       "\\hline\n",
       "\t 2021-01-28 & 89.54390 & 141633569 & -0.0272334284 & -0.0276111314 & -0.30190740 & -0.35940352\\\\\n",
       "\t 2021-01-29 & 88.03582 & 124084114 & -0.0168417996 & -0.0169852355 & -0.12390745 & -0.13228355\\\\\n",
       "\t 2021-02-01 & 90.16893 & 103476143 &  0.0242300169 &  0.0239411272 & -0.16608066 & -0.18161859\\\\\n",
       "\t 2021-02-02 & 90.26785 &  97226568 &  0.0010969877 &  0.0010963864 & -0.06039629 & -0.06229708\\\\\n",
       "\t 2021-02-03 & 90.33416 &  71477946 &  0.0007346479 &  0.0007343781 & -0.26483113 & -0.30765505\\\\\n",
       "\t 2021-02-04 & 90.60450 &  69402165 &  0.0029926991 &  0.0029882299 & -0.02904087 & -0.02947090\\\\\n",
       "\\end{tabular}\n"
      ],
      "text/markdown": [
       "\n",
       "A tibble: 6 × 7\n",
       "\n",
       "| date &lt;date&gt; | r50_close &lt;dbl&gt; | r50_volume &lt;dbl&gt; | r &lt;dbl[,1]&gt; | logr &lt;dbl[,1]&gt; | D_vol &lt;dbl[,1]&gt; | logD_vol &lt;dbl[,1]&gt; |\n",
       "|---|---|---|---|---|---|---|\n",
       "| 2021-01-28 | 89.54390 | 141633569 | -0.0272334284 | -0.0276111314 | -0.30190740 | -0.35940352 |\n",
       "| 2021-01-29 | 88.03582 | 124084114 | -0.0168417996 | -0.0169852355 | -0.12390745 | -0.13228355 |\n",
       "| 2021-02-01 | 90.16893 | 103476143 |  0.0242300169 |  0.0239411272 | -0.16608066 | -0.18161859 |\n",
       "| 2021-02-02 | 90.26785 |  97226568 |  0.0010969877 |  0.0010963864 | -0.06039629 | -0.06229708 |\n",
       "| 2021-02-03 | 90.33416 |  71477946 |  0.0007346479 |  0.0007343781 | -0.26483113 | -0.30765505 |\n",
       "| 2021-02-04 | 90.60450 |  69402165 |  0.0029926991 |  0.0029882299 | -0.02904087 | -0.02947090 |\n",
       "\n"
      ],
      "text/plain": [
       "  date       r50_close r50_volume r             logr          D_vol      \n",
       "1 2021-01-28 89.54390  141633569  -0.0272334284 -0.0276111314 -0.30190740\n",
       "2 2021-01-29 88.03582  124084114  -0.0168417996 -0.0169852355 -0.12390745\n",
       "3 2021-02-01 90.16893  103476143   0.0242300169  0.0239411272 -0.16608066\n",
       "4 2021-02-02 90.26785   97226568   0.0010969877  0.0010963864 -0.06039629\n",
       "5 2021-02-03 90.33416   71477946   0.0007346479  0.0007343781 -0.26483113\n",
       "6 2021-02-04 90.60450   69402165   0.0029926991  0.0029882299 -0.02904087\n",
       "  logD_vol   \n",
       "1 -0.35940352\n",
       "2 -0.13228355\n",
       "3 -0.18161859\n",
       "4 -0.06229708\n",
       "5 -0.30765505\n",
       "6 -0.02947090"
      ]
     },
     "metadata": {},
     "output_type": "display_data"
    }
   ],
   "source": [
    "# Add historical prices to each stock\n",
    "stocks <- left_join(stocks, pfolio, by = c(\"symbol\" = \"r50\"))\n",
    "stocks$weight <- as.numeric(stocks$weight)\n",
    "\n",
    "# Calculate r50 price and volume\n",
    "stocks <- stocks %>%\n",
    "        na.omit() %>%\n",
    "        group_by(date) %>%\n",
    "        summarise(\n",
    "                r50_close = sum(close * weight),\n",
    "                r50_volume = sum(volume * weight)\n",
    "                )\n",
    "\n",
    "stocks <- stocks %>%\n",
    "        mutate(\n",
    "                r = Delt(r50_close),                   # Arithmetic difference of the \"close\" column\n",
    "                logr = Delt(r50_close, type = \"log\"),  # Logarithmic difference of the \"close\" column\n",
    "                D_vol = Delt(r50_volume),              # Arithmetic difference of the \"volume\" column\n",
    "                logD_vol = Delt(r50_volume, type = \"log\")  # Logarithmic difference of the \"volume\" column\n",
    "        )\n",
    "# Remove t=0\n",
    "stocks <- filter(stocks, date != \"2021-01-27\")\n",
    "\n",
    "# Perform a full join between the \"wsb\" and \"stocks\" data frames based on matching timestamps and dates\n",
    "r50 <- full_join(wsb, stocks, by = c(\"timestamp\" = \"date\"))\n",
    "\n",
    "\n",
    "head(stocks)"
   ]
  },
  {
   "attachments": {},
   "cell_type": "markdown",
   "id": "c9077efa",
   "metadata": {},
   "source": [
    "## Adaptation of sentiment to r50\n",
    "\n",
    "For sake of simplicity we will use data in daily timeframe, but if I will be able to gather hourly data I might expand the project to encorporate this change. So since we have a varying number of posts per day we will need to summarize the sentiment for each day. To do so we will calculate the daily sentiment average and variance. In addition to that we will save the number of posts, comments and upvotes as well.  "
   ]
  },
  {
   "cell_type": "code",
   "execution_count": 25,
   "id": "d47fce3e",
   "metadata": {
    "vscode": {
     "languageId": "r"
    }
   },
   "outputs": [],
   "source": [
    "r50$count = rep(1, nrow(r50))"
   ]
  }
 ],
 "metadata": {
  "kernelspec": {
   "display_name": "R",
   "language": "R",
   "name": "ir"
  },
  "language_info": {
   "codemirror_mode": "r",
   "file_extension": ".r",
   "mimetype": "text/x-r-source",
   "name": "R",
   "pygments_lexer": "r",
   "version": "4.1.3"
  }
 },
 "nbformat": 4,
 "nbformat_minor": 5
}
