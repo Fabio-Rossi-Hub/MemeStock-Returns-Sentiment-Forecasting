{
 "cells": [
  {
   "attachments": {},
   "cell_type": "markdown",
   "id": "51a136da",
   "metadata": {},
   "source": [
    "# Feature Engineering\n",
    "The purpose of this section is to label each post with all the stock tickers mentioned inside, to explore the ditribution of stock mentions and to preprocess natural language for sentiment analysis."
   ]
  },
  {
   "cell_type": "code",
   "execution_count": 1,
   "id": "57a65e63",
   "metadata": {
    "vscode": {
     "languageId": "r"
    }
   },
   "outputs": [
    {
     "name": "stderr",
     "output_type": "stream",
     "text": [
      "-- \u001b[1mAttaching packages\u001b[22m --------------------------------------- tidyverse 1.3.1 --\n",
      "\n",
      "\u001b[32mv\u001b[39m \u001b[34mggplot2\u001b[39m 3.3.5     \u001b[32mv\u001b[39m \u001b[34mpurrr  \u001b[39m 0.3.4\n",
      "\u001b[32mv\u001b[39m \u001b[34mtibble \u001b[39m 3.1.6     \u001b[32mv\u001b[39m \u001b[34mdplyr  \u001b[39m 1.0.8\n",
      "\u001b[32mv\u001b[39m \u001b[34mtidyr  \u001b[39m 1.2.0     \u001b[32mv\u001b[39m \u001b[34mstringr\u001b[39m 1.4.0\n",
      "\u001b[32mv\u001b[39m \u001b[34mreadr  \u001b[39m 2.1.2     \u001b[32mv\u001b[39m \u001b[34mforcats\u001b[39m 0.5.1\n",
      "\n",
      "-- \u001b[1mConflicts\u001b[22m ------------------------------------------ tidyverse_conflicts() --\n",
      "\u001b[31mx\u001b[39m \u001b[34mdplyr\u001b[39m::\u001b[32mfilter()\u001b[39m masks \u001b[34mstats\u001b[39m::filter()\n",
      "\u001b[31mx\u001b[39m \u001b[34mdplyr\u001b[39m::\u001b[32mlag()\u001b[39m    masks \u001b[34mstats\u001b[39m::lag()\n",
      "\n",
      "Caricamento del pacchetto richiesto: xts\n",
      "\n",
      "Caricamento del pacchetto richiesto: zoo\n",
      "\n",
      "\n",
      "Caricamento pacchetto: 'zoo'\n",
      "\n",
      "\n",
      "I seguenti oggetti sono mascherati da 'package:base':\n",
      "\n",
      "    as.Date, as.Date.numeric\n",
      "\n",
      "\n",
      "\n",
      "Caricamento pacchetto: 'xts'\n",
      "\n",
      "\n",
      "I seguenti oggetti sono mascherati da 'package:dplyr':\n",
      "\n",
      "    first, last\n",
      "\n",
      "\n",
      "Caricamento del pacchetto richiesto: TTR\n",
      "\n",
      "Registered S3 method overwritten by 'quantmod':\n",
      "  method            from\n",
      "  as.zoo.data.frame zoo \n",
      "\n",
      "Caricamento del pacchetto richiesto: lubridate\n",
      "\n",
      "\n",
      "Caricamento pacchetto: 'lubridate'\n",
      "\n",
      "\n",
      "I seguenti oggetti sono mascherati da 'package:base':\n",
      "\n",
      "    date, intersect, setdiff, union\n",
      "\n",
      "\n",
      "Caricamento del pacchetto richiesto: PerformanceAnalytics\n",
      "\n",
      "\n",
      "Caricamento pacchetto: 'PerformanceAnalytics'\n",
      "\n",
      "\n",
      "Il seguente oggetto è mascherato da 'package:graphics':\n",
      "\n",
      "    legend\n",
      "\n",
      "\n",
      "\n",
      "Caricamento pacchetto: 'gridExtra'\n",
      "\n",
      "\n",
      "Il seguente oggetto è mascherato da 'package:dplyr':\n",
      "\n",
      "    combine\n",
      "\n",
      "\n"
     ]
    }
   ],
   "source": [
    "library(tidyverse);\n",
    "library(quantmod);\n",
    "library(tidyquant);\n",
    "library(gridExtra);"
   ]
  },
  {
   "attachments": {},
   "cell_type": "markdown",
   "id": "73e449fc",
   "metadata": {},
   "source": [
    "## Response variable creation: R50 index  \n",
    "As we previously saw, not all the stocks have enough observations to cover the entire observed period, so, instead of deleting most of the tickers, we will create an index that will represent the meme stocks as a whole. To do this we will create an index based on the 50 most popular stocks on Robinhood in march 2021, the R50. \n",
    "\n",
    "This is because Robinhood played a key role in the meme stocks phenomenon, as it allowed retail traders to trader extremely risky instruments with very low transaction fees, so it was the main broker utilized by the commuity(in fact there is a large overlap with the 50 most mentioned stocks). Robinhood was also in the center of a massive discussion when it halted the trading of Gamestop stocks for multiple times, making it an anthagonist to the Wallstreetbets subreddit.\n",
    "\n",
    "Note that some of the stocks included in the r50 are not listed anymore, but they are  included in the final calculations of r50.csv. "
   ]
  },
  {
   "cell_type": "code",
   "execution_count": 2,
   "id": "bafcaa84",
   "metadata": {
    "vscode": {
     "languageId": "r"
    }
   },
   "outputs": [],
   "source": [
    "# Read the CSV file \"vader_sentiment.csv\" into the wsb data frame\n",
    "wsb <- read.csv(file = \"../data/vader_sentiment.csv\",\n",
    "        header = TRUE,\n",
    "        sep = \",\",\n",
    "        dec = \".\")\n",
    "\n",
    "# Parse the timestamp column as dates\n",
    "wsb$timestamp <- parse_date(wsb$timestamp)\n",
    "\n",
    "# Select timestamp, number of comments, number of upvotes and sentiment and remove duplicate rows\n",
    "wsb <- wsb[c(5, 2, 4, 8)] %>% distinct()\n",
    "\n",
    "# Define a list of the 50 most popular stocks on Robinhood in March 2021\n",
    "r50 <- c(\"AAPL\", \"TSLA\", \"AMC\", \"SNDL\", \"F\", \"GE\", \"NIO\",\n",
    "        \"MSFT\", \"DIS\", \"AMZN\", \"NOK\", \"GME\", \"ZOM\",\n",
    "        \"AAL\", \"PLUG\", \"PFE\", \"ACB\", \"CCVI\", \"CCL\", \"GPRO\", \"DAL\",\n",
    "        \"OGI\", \"PLTR\", \"SNAP\", \"CTRM\", \"BABA\",\n",
    "        \"MRNA\", \"BAC\", \"NFLX\", \"BB\", \"CGC\", \"FCEL\", \"IDEX\",\n",
    "        \"AMD\", \"TLRY\", \"META\", \"NCLH\", \"T\", \"GM\",\n",
    "        \"SPCE\", \"UAL\", \"BA\", \"KO\", \"SBUX\", \"CRON\", \"WKHS\")#\"APHA\", \"NAKD\", \"TWTR\", \"ZNGA\"\n",
    "\n",
    "# Retrieve stock prices for r50 stocks\n",
    "stocks <- r50 %>%\n",
    "        tq_get(get = \"stock.prices\",\n",
    "                from = \"2021-01-27\",\n",
    "                to = \"2021-08-16\");\n"
   ]
  },
  {
   "attachments": {},
   "cell_type": "markdown",
   "id": "51a8a952",
   "metadata": {},
   "source": [
    "The weights of the stocks in the portfolio will be based on the number of mentions we calculated in data_processing.ipynb, in particular, we will model the weights using the mean and standard deviation of the number of mentions to model a log-normal distribution. Since the standard deviation is much larger than the mean we will log-transform the number of mentions.\n",
    "\n",
    "We will then have the top 10 most mentioned stock to weight around 60% of the index."
   ]
  },
  {
   "cell_type": "code",
   "execution_count": 3,
   "id": "5c4f0fbb",
   "metadata": {
    "vscode": {
     "languageId": "r"
    }
   },
   "outputs": [
    {
     "data": {
      "image/png": "[encoded data removed]",
      "text/plain": [
       "plot without title"
      ]
     },
     "metadata": {
      "image/png": {
       "height": 420,
       "width": 420
      }
     },
     "output_type": "display_data"
    }
   ],
   "source": [
    "weight <- 1 - plnorm(rep(2:47), meanlog = 1.297974, sdlog =1.298812)\n",
    "weight <- weight/sum(weight)\n",
    "plot(weight)\n",
    "\n",
    "# Create portfolio dataframe with r50 and weights\n",
    "pfolio <- cbind(r50,weight) %>% as.data.frame()"
   ]
  },
  {
   "attachments": {},
   "cell_type": "markdown",
   "id": "ee170911",
   "metadata": {},
   "source": [
    "The next step will be to create the r50 index by using the weights from the log normal distribution and the stock prices.\n",
    "After gatherimg this data we will be able to compute the returns and the change in volume of the index."
   ]
  },
  {
   "cell_type": "code",
   "execution_count": 4,
   "id": "95b7bd3b",
   "metadata": {
    "vscode": {
     "languageId": "r"
    }
   },
   "outputs": [
    {
     "data": {
      "text/html": [
       "<table class=\"dataframe\">\n",
       "<caption>A tibble: 6 × 7</caption>\n",
       "<thead>\n",
       "\t<tr><th scope=col>date</th><th scope=col>r50_close</th><th scope=col>r50_volume</th><th scope=col>r</th><th scope=col>logr</th><th scope=col>d_vol</th><th scope=col>d_logvol</th></tr>\n",
       "\t<tr><th scope=col>&lt;date&gt;</th><th scope=col>&lt;dbl&gt;</th><th scope=col>&lt;dbl&gt;</th><th scope=col>&lt;dbl[,1]&gt;</th><th scope=col>&lt;dbl[,1]&gt;</th><th scope=col>&lt;dbl[,1]&gt;</th><th scope=col>&lt;dbl[,1]&gt;</th></tr>\n",
       "</thead>\n",
       "<tbody>\n",
       "\t<tr><td>2021-01-27</td><td>92.11809</td><td>202745137</td><td>           NA</td><td>           NA</td><td>         NA</td><td>         NA</td></tr>\n",
       "\t<tr><td>2021-01-28</td><td>89.61655</td><td>141372098</td><td>-0.0271557173</td><td>-0.0275312479</td><td>-0.30271029</td><td>-0.36055431</td></tr>\n",
       "\t<tr><td>2021-01-29</td><td>88.10543</td><td>123867862</td><td>-0.0168621013</td><td>-0.0170058852</td><td>-0.12381677</td><td>-0.13218004</td></tr>\n",
       "\t<tr><td>2021-02-01</td><td>90.23816</td><td>103368344</td><td> 0.0242065570</td><td> 0.0239182221</td><td>-0.16549505</td><td>-0.18091660</td></tr>\n",
       "\t<tr><td>2021-02-02</td><td>90.34202</td><td> 97069839</td><td> 0.0011509428</td><td> 0.0011502810</td><td>-0.06093262</td><td>-0.06286805</td></tr>\n",
       "\t<tr><td>2021-02-03</td><td>90.42393</td><td> 70963356</td><td> 0.0009066662</td><td> 0.0009062555</td><td>-0.26894536</td><td>-0.31326708</td></tr>\n",
       "</tbody>\n",
       "</table>\n"
      ],
      "text/latex": [
       "A tibble: 6 × 7\n",
       "\\begin{tabular}{lllllll}\n",
       " date & r50\\_close & r50\\_volume & r & logr & d\\_vol & d\\_logvol\\\\\n",
       " <date> & <dbl> & <dbl> & <dbl{[},1{]}> & <dbl{[},1{]}> & <dbl{[},1{]}> & <dbl{[},1{]}>\\\\\n",
       "\\hline\n",
       "\t 2021-01-27 & 92.11809 & 202745137 &            NA &            NA &          NA &          NA\\\\\n",
       "\t 2021-01-28 & 89.61655 & 141372098 & -0.0271557173 & -0.0275312479 & -0.30271029 & -0.36055431\\\\\n",
       "\t 2021-01-29 & 88.10543 & 123867862 & -0.0168621013 & -0.0170058852 & -0.12381677 & -0.13218004\\\\\n",
       "\t 2021-02-01 & 90.23816 & 103368344 &  0.0242065570 &  0.0239182221 & -0.16549505 & -0.18091660\\\\\n",
       "\t 2021-02-02 & 90.34202 &  97069839 &  0.0011509428 &  0.0011502810 & -0.06093262 & -0.06286805\\\\\n",
       "\t 2021-02-03 & 90.42393 &  70963356 &  0.0009066662 &  0.0009062555 & -0.26894536 & -0.31326708\\\\\n",
       "\\end{tabular}\n"
      ],
      "text/markdown": [
       "\n",
       "A tibble: 6 × 7\n",
       "\n",
       "| date &lt;date&gt; | r50_close &lt;dbl&gt; | r50_volume &lt;dbl&gt; | r &lt;dbl[,1]&gt; | logr &lt;dbl[,1]&gt; | d_vol &lt;dbl[,1]&gt; | d_logvol &lt;dbl[,1]&gt; |\n",
       "|---|---|---|---|---|---|---|\n",
       "| 2021-01-27 | 92.11809 | 202745137 |            NA |            NA |          NA |          NA |\n",
       "| 2021-01-28 | 89.61655 | 141372098 | -0.0271557173 | -0.0275312479 | -0.30271029 | -0.36055431 |\n",
       "| 2021-01-29 | 88.10543 | 123867862 | -0.0168621013 | -0.0170058852 | -0.12381677 | -0.13218004 |\n",
       "| 2021-02-01 | 90.23816 | 103368344 |  0.0242065570 |  0.0239182221 | -0.16549505 | -0.18091660 |\n",
       "| 2021-02-02 | 90.34202 |  97069839 |  0.0011509428 |  0.0011502810 | -0.06093262 | -0.06286805 |\n",
       "| 2021-02-03 | 90.42393 |  70963356 |  0.0009066662 |  0.0009062555 | -0.26894536 | -0.31326708 |\n",
       "\n"
      ],
      "text/plain": [
       "  date       r50_close r50_volume r             logr          d_vol      \n",
       "1 2021-01-27 92.11809  202745137             NA            NA          NA\n",
       "2 2021-01-28 89.61655  141372098  -0.0271557173 -0.0275312479 -0.30271029\n",
       "3 2021-01-29 88.10543  123867862  -0.0168621013 -0.0170058852 -0.12381677\n",
       "4 2021-02-01 90.23816  103368344   0.0242065570  0.0239182221 -0.16549505\n",
       "5 2021-02-02 90.34202   97069839   0.0011509428  0.0011502810 -0.06093262\n",
       "6 2021-02-03 90.42393   70963356   0.0009066662  0.0009062555 -0.26894536\n",
       "  d_logvol   \n",
       "1          NA\n",
       "2 -0.36055431\n",
       "3 -0.13218004\n",
       "4 -0.18091660\n",
       "5 -0.06286805\n",
       "6 -0.31326708"
      ]
     },
     "metadata": {},
     "output_type": "display_data"
    }
   ],
   "source": [
    "# Add historical prices to each stock\n",
    "stocks <- left_join(stocks, pfolio, by = c(\"symbol\" = \"r50\"))\n",
    "stocks$weight <- as.numeric(stocks$weight)\n",
    "\n",
    "# Calculate r50 price and volume\n",
    "stocks <- stocks %>%\n",
    "        na.omit() %>%\n",
    "        group_by(date) %>%\n",
    "        summarise(\n",
    "                r50_close = sum(close * weight),\n",
    "                r50_volume = sum(volume * weight)\n",
    "                )\n",
    "# Calculate returns\n",
    "stocks <- stocks %>%\n",
    "        mutate(\n",
    "                r = Delt(r50_close),                   # Arithmetic difference of the \"close\" column\n",
    "                logr = Delt(r50_close, type = \"log\"),  # Logarithmic difference of the \"close\" column\n",
    "                d_vol = Delt(r50_volume),              # Arithmetic difference of the \"volume\" column\n",
    "                d_logvol = Delt(r50_volume, type = \"log\")  # Logarithmic difference of the \"volume\" column\n",
    "        )\n",
    "\n",
    "head(stocks)"
   ]
  },
  {
   "attachments": {},
   "cell_type": "markdown",
   "id": "c9077efa",
   "metadata": {},
   "source": [
    "## Adaptat sentiment to a daily time series and take engagement into account \n",
    "\n",
    "For sake of simplicity we will use data in daily timeframe, but if I will be able to gather hourly data I might expand the project to encorporate this change. So since we have a varying number of posts per day we will need to summarize the sentiment for each day. To do so we will calculate the daily sentiment average and variance. \n",
    "\n",
    "Following our sentiment analysis we saw a significant number of neutral posts, and given the large number of observations at our disposal we will get rid of the posts with a sentiment between -0.2 and 0.2.\n",
    "\n",
    "In addition to that we will save the number of posts, comments and upvotes, which we will combine with sentiment to create a new feature to take into account the engagement of the post.  \n"
   ]
  },
  {
   "cell_type": "code",
   "execution_count": 5,
   "id": "d47fce3e",
   "metadata": {
    "vscode": {
     "languageId": "r"
    }
   },
   "outputs": [
    {
     "data": {
      "text/html": [
       "<table class=\"dataframe\">\n",
       "<caption>A data.frame: 6 × 10</caption>\n",
       "<thead>\n",
       "\t<tr><th></th><th scope=col>timestamp</th><th scope=col>score</th><th scope=col>comms_num</th><th scope=col>sentiment</th><th scope=col>r50_close</th><th scope=col>r50_volume</th><th scope=col>r</th><th scope=col>logr</th><th scope=col>d_vol</th><th scope=col>d_logvol</th></tr>\n",
       "\t<tr><th></th><th scope=col>&lt;date&gt;</th><th scope=col>&lt;int&gt;</th><th scope=col>&lt;int&gt;</th><th scope=col>&lt;dbl&gt;</th><th scope=col>&lt;dbl&gt;</th><th scope=col>&lt;dbl&gt;</th><th scope=col>&lt;dbl[,1]&gt;</th><th scope=col>&lt;dbl[,1]&gt;</th><th scope=col>&lt;dbl[,1]&gt;</th><th scope=col>&lt;dbl[,1]&gt;</th></tr>\n",
       "</thead>\n",
       "<tbody>\n",
       "\t<tr><th scope=row>1</th><td>2021-01-28</td><td>  0</td><td> 47</td><td>-0.630</td><td>89.61655</td><td>141372098</td><td>-0.02715572</td><td>-0.02753125</td><td>-0.3027103</td><td>-0.3605543</td></tr>\n",
       "\t<tr><th scope=row>2</th><td>2021-01-28</td><td> 29</td><td> 74</td><td> 0.318</td><td>89.61655</td><td>141372098</td><td>-0.02715572</td><td>-0.02753125</td><td>-0.3027103</td><td>-0.3605543</td></tr>\n",
       "\t<tr><th scope=row>3</th><td>2021-01-28</td><td> 71</td><td>156</td><td> 0.223</td><td>89.61655</td><td>141372098</td><td>-0.02715572</td><td>-0.02753125</td><td>-0.3027103</td><td>-0.3605543</td></tr>\n",
       "\t<tr><th scope=row>4</th><td>2021-01-28</td><td>317</td><td> 53</td><td> 0.947</td><td>89.61655</td><td>141372098</td><td>-0.02715572</td><td>-0.02753125</td><td>-0.3027103</td><td>-0.3605543</td></tr>\n",
       "\t<tr><th scope=row>5</th><td>2021-01-28</td><td>405</td><td>178</td><td>-0.991</td><td>89.61655</td><td>141372098</td><td>-0.02715572</td><td>-0.02753125</td><td>-0.3027103</td><td>-0.3605543</td></tr>\n",
       "\t<tr><th scope=row>6</th><td>2021-01-28</td><td>200</td><td>161</td><td> 0.361</td><td>89.61655</td><td>141372098</td><td>-0.02715572</td><td>-0.02753125</td><td>-0.3027103</td><td>-0.3605543</td></tr>\n",
       "</tbody>\n",
       "</table>\n"
      ],
      "text/latex": [
       "A data.frame: 6 × 10\n",
       "\\begin{tabular}{r|llllllllll}\n",
       "  & timestamp & score & comms\\_num & sentiment & r50\\_close & r50\\_volume & r & logr & d\\_vol & d\\_logvol\\\\\n",
       "  & <date> & <int> & <int> & <dbl> & <dbl> & <dbl> & <dbl{[},1{]}> & <dbl{[},1{]}> & <dbl{[},1{]}> & <dbl{[},1{]}>\\\\\n",
       "\\hline\n",
       "\t1 & 2021-01-28 &   0 &  47 & -0.630 & 89.61655 & 141372098 & -0.02715572 & -0.02753125 & -0.3027103 & -0.3605543\\\\\n",
       "\t2 & 2021-01-28 &  29 &  74 &  0.318 & 89.61655 & 141372098 & -0.02715572 & -0.02753125 & -0.3027103 & -0.3605543\\\\\n",
       "\t3 & 2021-01-28 &  71 & 156 &  0.223 & 89.61655 & 141372098 & -0.02715572 & -0.02753125 & -0.3027103 & -0.3605543\\\\\n",
       "\t4 & 2021-01-28 & 317 &  53 &  0.947 & 89.61655 & 141372098 & -0.02715572 & -0.02753125 & -0.3027103 & -0.3605543\\\\\n",
       "\t5 & 2021-01-28 & 405 & 178 & -0.991 & 89.61655 & 141372098 & -0.02715572 & -0.02753125 & -0.3027103 & -0.3605543\\\\\n",
       "\t6 & 2021-01-28 & 200 & 161 &  0.361 & 89.61655 & 141372098 & -0.02715572 & -0.02753125 & -0.3027103 & -0.3605543\\\\\n",
       "\\end{tabular}\n"
      ],
      "text/markdown": [
       "\n",
       "A data.frame: 6 × 10\n",
       "\n",
       "| <!--/--> | timestamp &lt;date&gt; | score &lt;int&gt; | comms_num &lt;int&gt; | sentiment &lt;dbl&gt; | r50_close &lt;dbl&gt; | r50_volume &lt;dbl&gt; | r &lt;dbl[,1]&gt; | logr &lt;dbl[,1]&gt; | d_vol &lt;dbl[,1]&gt; | d_logvol &lt;dbl[,1]&gt; |\n",
       "|---|---|---|---|---|---|---|---|---|---|---|\n",
       "| 1 | 2021-01-28 |   0 |  47 | -0.630 | 89.61655 | 141372098 | -0.02715572 | -0.02753125 | -0.3027103 | -0.3605543 |\n",
       "| 2 | 2021-01-28 |  29 |  74 |  0.318 | 89.61655 | 141372098 | -0.02715572 | -0.02753125 | -0.3027103 | -0.3605543 |\n",
       "| 3 | 2021-01-28 |  71 | 156 |  0.223 | 89.61655 | 141372098 | -0.02715572 | -0.02753125 | -0.3027103 | -0.3605543 |\n",
       "| 4 | 2021-01-28 | 317 |  53 |  0.947 | 89.61655 | 141372098 | -0.02715572 | -0.02753125 | -0.3027103 | -0.3605543 |\n",
       "| 5 | 2021-01-28 | 405 | 178 | -0.991 | 89.61655 | 141372098 | -0.02715572 | -0.02753125 | -0.3027103 | -0.3605543 |\n",
       "| 6 | 2021-01-28 | 200 | 161 |  0.361 | 89.61655 | 141372098 | -0.02715572 | -0.02753125 | -0.3027103 | -0.3605543 |\n",
       "\n"
      ],
      "text/plain": [
       "  timestamp  score comms_num sentiment r50_close r50_volume r          \n",
       "1 2021-01-28   0    47       -0.630    89.61655  141372098  -0.02715572\n",
       "2 2021-01-28  29    74        0.318    89.61655  141372098  -0.02715572\n",
       "3 2021-01-28  71   156        0.223    89.61655  141372098  -0.02715572\n",
       "4 2021-01-28 317    53        0.947    89.61655  141372098  -0.02715572\n",
       "5 2021-01-28 405   178       -0.991    89.61655  141372098  -0.02715572\n",
       "6 2021-01-28 200   161        0.361    89.61655  141372098  -0.02715572\n",
       "  logr        d_vol      d_logvol  \n",
       "1 -0.02753125 -0.3027103 -0.3605543\n",
       "2 -0.02753125 -0.3027103 -0.3605543\n",
       "3 -0.02753125 -0.3027103 -0.3605543\n",
       "4 -0.02753125 -0.3027103 -0.3605543\n",
       "5 -0.02753125 -0.3027103 -0.3605543\n",
       "6 -0.02753125 -0.3027103 -0.3605543"
      ]
     },
     "metadata": {},
     "output_type": "display_data"
    }
   ],
   "source": [
    "# Assign sentiment values to each trading day\n",
    "r50 <- full_join(wsb, stocks, by = c(\"timestamp\" = \"date\"))\n",
    "\n",
    "# Remove rows with missing values from r50\n",
    "r50 <- r50 %>% na.omit()\n",
    "\n",
    "# Filter r50 to include only rows with absolute sentiment value greater than 0.2\n",
    "r50 <- r50 %>%\n",
    "    filter(abs(sentiment) > 0.2) %>%\n",
    "    na.omit()\n",
    "\n",
    "head(r50)\n"
   ]
  },
  {
   "cell_type": "markdown",
   "id": "f6dffeca",
   "metadata": {},
   "source": [
    "The upvote in reddit is comparable to the like in many other social media, and is a key indicator of engagement, just as the number of comments. These two variable are slightly correlated but some these values are clear outliers, so to reduce the variance of these features we will log transform the data. \n",
    "\n",
    "After the log transformation the two variables are highly correlated, so we will combine them together to avoid collinearity."
   ]
  },
  {
   "cell_type": "code",
   "execution_count": 6,
   "metadata": {
    "vscode": {
     "languageId": "r"
    }
   },
   "outputs": [
    {
     "data": {
      "image/png": "[encoded data removed]",
      "text/plain": [
       "plot without title"
      ]
     },
     "metadata": {
      "image/png": {
       "height": 360,
       "width": 720
      }
     },
     "output_type": "display_data"
    }
   ],
   "source": [
    "plot1 = ggplot(r50, aes(x = score, y = comms_num)) +\n",
    "    geom_point()\n",
    "# Log transform score and comms_num to reduce outliers impact\n",
    "r50 <- r50 %>% \n",
    "    mutate(\n",
    "        comms_num = log(comms_num),\n",
    "        score = log(score)\n",
    "    ) %>%\n",
    "    mutate(\n",
    "        comms_num = replace(comms_num, is.infinite(comms_num), 0),\n",
    "        score = replace(score, is.infinite(score), 0)\n",
    "        )\n",
    "\n",
    "\n",
    "plot2 = ggplot(r50, aes(x = score, y = comms_num)) +\n",
    "    geom_point()\n",
    "\n",
    "options(repr.plot.width = 12, repr.plot.height = 6)\n",
    "grid.arrange(plot1, plot2, ncol = 2)\n",
    "\n",
    "# Combine score and comms_num into a new feature\n",
    "r50$engagement <- r50$score * r50$comms_num\n",
    "\n",
    "# Combine engagement and sentiment\n",
    "r50$eng_sent <- r50$engagement * r50$sentiment \n",
    "\n",
    "# Remove score and comms_num\n",
    "r50 <- select(r50,-c(comms_num, score))"
   ]
  },
  {
   "cell_type": "code",
   "execution_count": null,
   "id": "776d7108",
   "metadata": {
    "vscode": {
     "languageId": "r"
    }
   },
   "outputs": [],
   "source": []
  },
  {
   "cell_type": "markdown",
   "id": "7347b7b5",
   "metadata": {},
   "source": [
    "The final step will be to summaries the features to fit the time series."
   ]
  },
  {
   "cell_type": "code",
   "execution_count": 7,
   "id": "69fdacf5",
   "metadata": {
    "vscode": {
     "languageId": "r"
    }
   },
   "outputs": [
    {
     "data": {
      "text/plain": [
       "   timestamp             sent_avg          sent_var          eng_avg      \n",
       " Min.   :2021-01-28   Min.   :-0.2020   Min.   :0.01863   Min.   : 2.237  \n",
       " 1st Qu.:2021-03-12   1st Qu.: 0.4043   1st Qu.:0.17203   1st Qu.:21.124  \n",
       " Median :2021-04-26   Median : 0.5389   Median :0.31556   Median :24.533  \n",
       " Mean   :2021-04-30   Mean   : 0.5352   Mean   :0.31677   Mean   :24.542  \n",
       " 3rd Qu.:2021-06-21   3rd Qu.: 0.6520   3rd Qu.:0.43306   3rd Qu.:28.394  \n",
       " Max.   :2021-08-13   Max.   : 0.9284   Max.   :1.00250   Max.   :39.713  \n",
       "                                        NA's   :1                         \n",
       "    eng_var        engsent_avg      engsent_var            r             \n",
       " Min.   : 42.59   Min.   :-2.309   Min.   :  38.98   Min.   :-0.0463323  \n",
       " 1st Qu.:172.15   1st Qu.: 9.643   1st Qu.: 205.73   1st Qu.:-0.0084145  \n",
       " Median :248.11   Median :13.001   Median : 296.12   Median :-0.0006638  \n",
       " Mean   :260.57   Mean   :13.383   Mean   : 338.92   Mean   : 0.0001557  \n",
       " 3rd Qu.:343.60   3rd Qu.:17.725   3rd Qu.: 429.70   3rd Qu.: 0.0105596  \n",
       " Max.   :655.78   Max.   :27.662   Max.   :1025.66   Max.   : 0.0708157  \n",
       " NA's   :1                         NA's   :1                             \n",
       "      logr                d_vol              d_logvol       \n",
       " Min.   :-4.744e-02   Min.   :-0.340337   Min.   :-0.41603  \n",
       " 1st Qu.:-8.450e-03   1st Qu.:-0.125866   1st Qu.:-0.13452  \n",
       " Median :-6.640e-04   Median :-0.025070   Median :-0.02539  \n",
       " Mean   : 2.281e-05   Mean   : 0.005154   Mean   :-0.01172  \n",
       " 3rd Qu.: 1.050e-02   3rd Qu.: 0.106710   3rd Qu.: 0.10139  \n",
       " Max.   : 6.842e-02   Max.   : 0.591969   Max.   : 0.46497  \n",
       "                                                            "
      ]
     },
     "metadata": {},
     "output_type": "display_data"
    }
   ],
   "source": [
    "# Summaries variables for each trading day\n",
    "r50 <- r50 %>%\n",
    "    group_by(timestamp) %>%\n",
    "    summarise(\n",
    "            sent_avg = mean(sentiment),\n",
    "            sent_var = var(sentiment),\n",
    "            eng_avg = mean(engagement),\n",
    "            eng_var = var(engagement),\n",
    "            engsent_avg = mean(eng_sent),\n",
    "            engsent_var = var(eng_sent),\n",
    "            r = mean(r),\n",
    "            logr = mean(logr),\n",
    "            d_vol = mean(d_vol),\n",
    "            d_logvol = mean(d_logvol))\n",
    "            \n",
    "summary(r50)"
   ]
  }
 ],
 "metadata": {
  "kernelspec": {
   "display_name": "R",
   "language": "R",
   "name": "ir"
  },
  "language_info": {
   "codemirror_mode": "r",
   "file_extension": ".r",
   "mimetype": "text/x-r-source",
   "name": "R",
   "pygments_lexer": "r",
   "version": "4.1.3"
  }
 },
 "nbformat": 4,
 "nbformat_minor": 5
}
