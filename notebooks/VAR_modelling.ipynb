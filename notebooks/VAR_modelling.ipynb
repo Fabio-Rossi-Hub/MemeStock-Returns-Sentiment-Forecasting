{
 "cells": [
  {
   "cell_type": "markdown",
   "id": "51a136da",
   "metadata": {},
   "source": [
    "# VAR modeling \n",
    "To assess the relationship between Wallstreetbest sentiment and stock's data, we will use VAR models. \n",
    "\n",
    "The VAR model is a statistical model for forecasting time series data. The difference between VAR and other time series models like ARIMA, ARMA or GARCH, is that VAR allows for multivariate analysis, and can also be used with exogenous variables(pretty much timeseries modeling for endogenous and common regression for exogenous)."
   ]
  },
  {
   "cell_type": "code",
   "execution_count": 65,
   "id": "57a65e63",
   "metadata": {
    "vscode": {
     "languageId": "r"
    }
   },
   "outputs": [],
   "source": [
    "library(tidyverse);\n",
    "library(recipes);\n",
    "library(caret);\n",
    "library(xts);\n",
    "library(MTS);\n",
    "library(tseries);\n",
    "library(forecast);\n",
    "library(vars);\n",
    "library(lmtest);"
   ]
  },
  {
   "cell_type": "markdown",
   "id": "73e449fc",
   "metadata": {},
   "source": [
    "Before training our model we need to deal with Null values by inputing the three missing values. Since our data is sequential, and we already have few observations, I prefered not to discard the row contsining the null values.\n",
    "When fitting a VAR model we usually don't need to scale our variables so we will keep them as they are.\n",
    "\n",
    "Some of the variables are highly correlated, for example r and logr represent the same thing, so we will keep only r for the sake of interpretability, logr might come handy in the furure to fit a GARCH model."
   ]
  },
  {
   "cell_type": "code",
   "execution_count": 66,
   "id": "bafcaa84",
   "metadata": {
    "vscode": {
     "languageId": "r"
    }
   },
   "outputs": [
    {
     "data": {
      "text/html": [
       "<table class=\"dataframe\">\n",
       "<caption>A matrix: 4 × 4 of type dbl</caption>\n",
       "<thead>\n",
       "\t<tr><th></th><th scope=col>r</th><th scope=col>d_vol</th><th scope=col>sent_avg</th><th scope=col>eng_var</th></tr>\n",
       "</thead>\n",
       "<tbody>\n",
       "\t<tr><th scope=row>r</th><td> 1.00000000</td><td>-0.150856421</td><td>-0.074694295</td><td> 0.04417403</td></tr>\n",
       "\t<tr><th scope=row>d_vol</th><td>-0.15085642</td><td> 1.000000000</td><td> 0.002971014</td><td> 0.07772463</td></tr>\n",
       "\t<tr><th scope=row>sent_avg</th><td>-0.07469430</td><td> 0.002971014</td><td> 1.000000000</td><td>-0.13288172</td></tr>\n",
       "\t<tr><th scope=row>eng_var</th><td> 0.04417403</td><td> 0.077724634</td><td>-0.132881721</td><td> 1.00000000</td></tr>\n",
       "</tbody>\n",
       "</table>\n"
      ],
      "text/latex": [
       "A matrix: 4 × 4 of type dbl\n",
       "\\begin{tabular}{r|llll}\n",
       "  & r & d\\_vol & sent\\_avg & eng\\_var\\\\\n",
       "\\hline\n",
       "\tr &  1.00000000 & -0.150856421 & -0.074694295 &  0.04417403\\\\\n",
       "\td\\_vol & -0.15085642 &  1.000000000 &  0.002971014 &  0.07772463\\\\\n",
       "\tsent\\_avg & -0.07469430 &  0.002971014 &  1.000000000 & -0.13288172\\\\\n",
       "\teng\\_var &  0.04417403 &  0.077724634 & -0.132881721 &  1.00000000\\\\\n",
       "\\end{tabular}\n"
      ],
      "text/markdown": [
       "\n",
       "A matrix: 4 × 4 of type dbl\n",
       "\n",
       "| <!--/--> | r | d_vol | sent_avg | eng_var |\n",
       "|---|---|---|---|---|\n",
       "| r |  1.00000000 | -0.150856421 | -0.074694295 |  0.04417403 |\n",
       "| d_vol | -0.15085642 |  1.000000000 |  0.002971014 |  0.07772463 |\n",
       "| sent_avg | -0.07469430 |  0.002971014 |  1.000000000 | -0.13288172 |\n",
       "| eng_var |  0.04417403 |  0.077724634 | -0.132881721 |  1.00000000 |\n",
       "\n"
      ],
      "text/plain": [
       "         r           d_vol        sent_avg     eng_var    \n",
       "r         1.00000000 -0.150856421 -0.074694295  0.04417403\n",
       "d_vol    -0.15085642  1.000000000  0.002971014  0.07772463\n",
       "sent_avg -0.07469430  0.002971014  1.000000000 -0.13288172\n",
       "eng_var   0.04417403  0.077724634 -0.132881721  1.00000000"
      ]
     },
     "metadata": {},
     "output_type": "display_data"
    },
    {
     "data": {
      "image/png": "[encoded data removed]",
      "text/plain": [
       "plot without title"
      ]
     },
     "metadata": {
      "image/png": {
       "height": 420,
       "width": 420
      }
     },
     "output_type": "display_data"
    }
   ],
   "source": [
    "r50 <- read.csv(file = \"../data/r50_2023.csv\",\n",
    "                header = TRUE,\n",
    "                sep = \",\",\n",
    "                dec = \".\")\n",
    "\n",
    "# Center and scale\n",
    "recipe <-\n",
    "    recipe(~., data = r50) %>%\n",
    "    step_impute_mean(all_numeric()) %>%\n",
    "    step_select(-c(X, timestamp)) \n",
    "\n",
    "recipe <- prep(recipe, training = r50)\n",
    "\n",
    "r50_clean <- bake(recipe, r50)\n",
    "\n",
    "heatmap(cor(r50_clean))\n",
    "\n",
    "r50_clean <- subset(r50_clean, select = -c(logr, d_logvol))\n",
    "    \n",
    "r50_clean <- r50_clean[c( \"r\", \"d_vol\", \"sent_avg\", \"eng_var\")] \n",
    "\n",
    "cor(r50_clean)\n",
    "\n"
   ]
  },
  {
   "cell_type": "markdown",
   "id": "51a8a952",
   "metadata": {},
   "source": [
    "One of the key assumptions of VAR is the stationarity of the data, that is, that the time series have costant mean, costant variance and costant autocovariance. To make it simple, we don't want to have patterns or long term trends, but we want our time series to behave in a similar manner across different periods. \n",
    "\n",
    "We can assess stationarity by rejecting the null hypothesis of the Augmented Dickey-Fuller (ADF) test. In the table below we can see that all our feature are stationary, while sent_var might not be stationary. Due to the p-value we can assume that it should be stationary."
   ]
  },
  {
   "cell_type": "code",
   "execution_count": 67,
   "id": "2c47a168",
   "metadata": {
    "vscode": {
     "languageId": "r"
    }
   },
   "outputs": [
    {
     "data": {
      "text/html": [
       "<table class=\"dataframe\">\n",
       "<caption>A data.frame: 4 × 2</caption>\n",
       "<thead>\n",
       "\t<tr><th></th><th scope=col>Variable</th><th scope=col>P_Value</th></tr>\n",
       "\t<tr><th></th><th scope=col>&lt;chr&gt;</th><th scope=col>&lt;dbl&gt;</th></tr>\n",
       "</thead>\n",
       "<tbody>\n",
       "\t<tr><th scope=row>1</th><td>r       </td><td>0.01000000</td></tr>\n",
       "\t<tr><th scope=row>2</th><td>d_vol   </td><td>0.01000000</td></tr>\n",
       "\t<tr><th scope=row>3</th><td>sent_avg</td><td>0.01437974</td></tr>\n",
       "\t<tr><th scope=row>4</th><td>eng_var </td><td>0.01000000</td></tr>\n",
       "</tbody>\n",
       "</table>\n"
      ],
      "text/latex": [
       "A data.frame: 4 × 2\n",
       "\\begin{tabular}{r|ll}\n",
       "  & Variable & P\\_Value\\\\\n",
       "  & <chr> & <dbl>\\\\\n",
       "\\hline\n",
       "\t1 & r        & 0.01000000\\\\\n",
       "\t2 & d\\_vol    & 0.01000000\\\\\n",
       "\t3 & sent\\_avg & 0.01437974\\\\\n",
       "\t4 & eng\\_var  & 0.01000000\\\\\n",
       "\\end{tabular}\n"
      ],
      "text/markdown": [
       "\n",
       "A data.frame: 4 × 2\n",
       "\n",
       "| <!--/--> | Variable &lt;chr&gt; | P_Value &lt;dbl&gt; |\n",
       "|---|---|---|\n",
       "| 1 | r        | 0.01000000 |\n",
       "| 2 | d_vol    | 0.01000000 |\n",
       "| 3 | sent_avg | 0.01437974 |\n",
       "| 4 | eng_var  | 0.01000000 |\n",
       "\n"
      ],
      "text/plain": [
       "  Variable P_Value   \n",
       "1 r        0.01000000\n",
       "2 d_vol    0.01000000\n",
       "3 sent_avg 0.01437974\n",
       "4 eng_var  0.01000000"
      ]
     },
     "metadata": {},
     "output_type": "display_data"
    }
   ],
   "source": [
    "variables <- colnames(r50_clean)\n",
    "\n",
    "adf_results <- data.frame(Variable = character(length(variables)), ADF_pValue = numeric(length(variables)))\n",
    "\n",
    "# Perform the adf test to all variables\n",
    "for (i in seq_along(variables)) {\n",
    "    suppressWarnings(adf_result <- adf.test(r50_clean[[variables[i]]]))\n",
    "    adf_results[i, \"Variable\"] <- variables[i]\n",
    "    adf_results[i, \"P_Value\"] <- adf_result$p.value\n",
    "}\n",
    "\n",
    "# Print the variable names and p-values of adf test\n",
    "head(adf_results[, c(\"Variable\", \"P_Value\")],10)\n"
   ]
  },
  {
   "cell_type": "markdown",
   "id": "05635a13",
   "metadata": {},
   "source": [
    "Once we have checked that the time series respect the model assumptions we can prepare the dataset fot training and testing. We will have different datasets for VAR and VARX, this because VARX needs an additional dataset input for exogenolus variables, that will be treated like normal estimators, without taking into account their lag. In orderot explore the impact of sentiment we will analyse it both as endogenous and as exogenous variables."
   ]
  },
  {
   "cell_type": "code",
   "execution_count": 68,
   "metadata": {
    "vscode": {
     "languageId": "r"
    }
   },
   "outputs": [],
   "source": [
    "# Train/Test split\n",
    "idx <- round(nrow(r50_clean) * 0.9)\n",
    "\n",
    "df_train <- head(r50_clean, idx) %>% na.omit()\n",
    "df_test <- tail(r50_clean,\n",
    "            nrow(r50_clean) - idx) %>%\n",
    "            na.omit()\n",
    "\n",
    "# Set r and d_vol as endogenous variables\n",
    "endogenous <- c(\"r\", \"d_vol\")\n",
    "\n",
    "# Set sentiment variables as exogenous\n",
    "exogenous <- c(\"sent_avg\", \"eng_var\")\n",
    "\n",
    "# VARX Exogenous\n",
    "df_ex_train <- df_train[exogenous]\n",
    "df_ex_test <- df_test[exogenous] \n",
    "\n",
    "# VARX Endogenous\n",
    "df_end_train <- df_train[endogenous]\n",
    "df_end_test <- df_test[endogenous]"
   ]
  },
  {
   "cell_type": "markdown",
   "id": "58c0cef0",
   "metadata": {},
   "source": [
    "Now that we have our training data, we can find the optimal number of lags to fit our model. VARoder and VARoderI both provide an insight on which is the bets lag, with the first one using statistical tests, the latter using impulse response functions. \n",
    "\n",
    "Both "
   ]
  },
  {
   "cell_type": "code",
   "execution_count": 69,
   "id": "84f08b8e",
   "metadata": {
    "vscode": {
     "languageId": "r"
    }
   },
   "outputs": [
    {
     "name": "stdout",
     "output_type": "stream",
     "text": [
      "selected order: aic =  3 \n",
      "selected order: bic =  0 \n",
      "selected order: hq =  0 \n",
      "Summary table:  \n",
      "       p     AIC     BIC      HQ    M(p) p-value\n",
      " [1,]  0 -5.5905 -5.5905 -5.5905  0.0000  0.0000\n",
      " [2,]  1 -5.5598 -5.1648 -5.3996 24.5822  0.0775\n",
      " [3,]  2 -5.5958 -4.8057 -5.2754 29.4946  0.0208\n",
      " [4,]  3 -5.6056 -4.4204 -5.1249 25.9367  0.0549\n",
      " [5,]  4 -5.5442 -3.9639 -4.9033 18.9218  0.2727\n",
      " [6,]  5 -5.4545 -3.4792 -4.6535 15.8045  0.4667\n",
      " [7,]  6 -5.4155 -3.0452 -4.4543 18.7133  0.2838\n",
      " [8,]  7 -5.3954 -2.6300 -4.2739 19.0026  0.2685\n",
      " [9,]  8 -5.4187 -2.2583 -4.1370 20.7594  0.1879\n",
      "[10,]  9 -5.3579 -1.8024 -3.9160 14.3161  0.5752\n",
      "[11,] 10 -5.3942 -1.4436 -3.7921 18.9649  0.2705\n",
      "selected order: aic =  3 \n",
      "selected order: bic =  0 \n",
      "selected order: hq =  0 \n",
      "M statistic and its p-value \n",
      "      Mstat        pv\n",
      " [1,] 42.62 0.0003192\n",
      " [2,] 26.82 0.0435193\n",
      " [3,] 27.14 0.0400010\n",
      " [4,] 15.72 0.4724542\n",
      " [5,] 16.48 0.4196769\n",
      " [6,] 14.77 0.5413753\n",
      " [7,] 27.78 0.0335863\n",
      " [8,] 20.63 0.1930585\n",
      " [9,] 13.11 0.6643807\n",
      "[10,] 17.21 0.3723785\n",
      "Summary table:  \n",
      "       p     AIC      BIC      HQ   M(p)   p-value\n",
      " [1,]  0 -5.4233 -5.42333 -5.4233  0.000 0.0000000\n",
      " [2,]  1 -5.5828 -5.18547 -5.4217 42.616 0.0003192\n",
      " [3,]  2 -5.5807 -4.78131 -5.2566 26.821 0.0435193\n",
      " [4,]  3 -5.5905 -4.38442 -5.1017 27.136 0.0400010\n",
      " [5,]  4 -5.4700 -3.85238 -4.8145 15.723 0.4724542\n",
      " [6,]  5 -5.3633 -3.32918 -4.5392 16.485 0.4196769\n",
      " [7,]  6 -5.2387 -2.78302 -4.2441 14.772 0.5413753\n",
      " [8,]  7 -5.3064 -2.42408 -4.1393 27.780 0.0335863\n",
      " [9,]  8 -5.2828 -1.96862 -3.9411 20.633 0.1930585\n",
      "[10,]  9 -5.1507 -1.39928 -3.6325 13.114 0.6643807\n",
      "[11,] 10 -5.0976 -0.90351 -3.4007 17.206 0.3723785\n"
     ]
    },
    {
     "data": {
      "text/html": [
       "<dl>\n",
       "\t<dt>$selection</dt>\n",
       "\t\t<dd><style>\n",
       ".dl-inline {width: auto; margin:0; padding: 0}\n",
       ".dl-inline>dt, .dl-inline>dd {float: none; width: auto; display: inline-block}\n",
       ".dl-inline>dt::after {content: \":\\0020\"; padding-right: .5ex}\n",
       ".dl-inline>dt:not(:first-of-type) {padding-left: .5ex}\n",
       "</style><dl class=dl-inline><dt>AIC(n)</dt><dd>1</dd><dt>HQ(n)</dt><dd>1</dd><dt>SC(n)</dt><dd>1</dd><dt>FPE(n)</dt><dd>1</dd></dl>\n",
       "</dd>\n",
       "\t<dt>$criteria</dt>\n",
       "\t\t<dd><table class=\"dataframe\">\n",
       "<caption>A matrix: 4 × 10 of type dbl</caption>\n",
       "<thead>\n",
       "\t<tr><th></th><th scope=col>1</th><th scope=col>2</th><th scope=col>3</th><th scope=col>4</th><th scope=col>5</th><th scope=col>6</th><th scope=col>7</th><th scope=col>8</th><th scope=col>9</th><th scope=col>10</th></tr>\n",
       "</thead>\n",
       "<tbody>\n",
       "\t<tr><th scope=row>AIC(n)</th><td>-1.130106e+01</td><td>-1.127729e+01</td><td>-1.122933e+01</td><td>-1.122768e+01</td><td>-1.126057e+01</td><td>-1.126118e+01</td><td>-1.127864e+01</td><td>-1.126263e+01</td><td>-1.126261e+01</td><td>-1.119967e+01</td></tr>\n",
       "\t<tr><th scope=row>HQ(n)</th><td>-1.119500e+01</td><td>-1.112880e+01</td><td>-1.103843e+01</td><td>-1.099435e+01</td><td>-1.098481e+01</td><td>-1.094301e+01</td><td>-1.091804e+01</td><td>-1.085960e+01</td><td>-1.081716e+01</td><td>-1.071179e+01</td></tr>\n",
       "\t<tr><th scope=row>SC(n)</th><td>-1.103893e+01</td><td>-1.091030e+01</td><td>-1.075749e+01</td><td>-1.065099e+01</td><td>-1.057902e+01</td><td>-1.047478e+01</td><td>-1.038739e+01</td><td>-1.026652e+01</td><td>-1.016165e+01</td><td>-9.993853e+00</td></tr>\n",
       "\t<tr><th scope=row>FPE(n)</th><td> 1.236193e-05</td><td> 1.266315e-05</td><td> 1.329228e-05</td><td> 1.332538e-05</td><td> 1.290988e-05</td><td> 1.292325e-05</td><td> 1.272722e-05</td><td> 1.296849e-05</td><td> 1.301338e-05</td><td> 1.391722e-05</td></tr>\n",
       "</tbody>\n",
       "</table>\n",
       "</dd>\n",
       "</dl>\n"
      ],
      "text/latex": [
       "\\begin{description}\n",
       "\\item[\\$selection] \\begin{description*}\n",
       "\\item[AIC(n)] 1\n",
       "\\item[HQ(n)] 1\n",
       "\\item[SC(n)] 1\n",
       "\\item[FPE(n)] 1\n",
       "\\end{description*}\n",
       "\n",
       "\\item[\\$criteria] A matrix: 4 × 10 of type dbl\n",
       "\\begin{tabular}{r|llllllllll}\n",
       "  & 1 & 2 & 3 & 4 & 5 & 6 & 7 & 8 & 9 & 10\\\\\n",
       "\\hline\n",
       "\tAIC(n) & -1.130106e+01 & -1.127729e+01 & -1.122933e+01 & -1.122768e+01 & -1.126057e+01 & -1.126118e+01 & -1.127864e+01 & -1.126263e+01 & -1.126261e+01 & -1.119967e+01\\\\\n",
       "\tHQ(n) & -1.119500e+01 & -1.112880e+01 & -1.103843e+01 & -1.099435e+01 & -1.098481e+01 & -1.094301e+01 & -1.091804e+01 & -1.085960e+01 & -1.081716e+01 & -1.071179e+01\\\\\n",
       "\tSC(n) & -1.103893e+01 & -1.091030e+01 & -1.075749e+01 & -1.065099e+01 & -1.057902e+01 & -1.047478e+01 & -1.038739e+01 & -1.026652e+01 & -1.016165e+01 & -9.993853e+00\\\\\n",
       "\tFPE(n) &  1.236193e-05 &  1.266315e-05 &  1.329228e-05 &  1.332538e-05 &  1.290988e-05 &  1.292325e-05 &  1.272722e-05 &  1.296849e-05 &  1.301338e-05 &  1.391722e-05\\\\\n",
       "\\end{tabular}\n",
       "\n",
       "\\end{description}\n"
      ],
      "text/markdown": [
       "$selection\n",
       ":   AIC(n)\n",
       ":   1HQ(n)\n",
       ":   1SC(n)\n",
       ":   1FPE(n)\n",
       ":   1\n",
       "\n",
       "\n",
       "$criteria\n",
       ":   \n",
       "A matrix: 4 × 10 of type dbl\n",
       "\n",
       "| <!--/--> | 1 | 2 | 3 | 4 | 5 | 6 | 7 | 8 | 9 | 10 |\n",
       "|---|---|---|---|---|---|---|---|---|---|---|\n",
       "| AIC(n) | -1.130106e+01 | -1.127729e+01 | -1.122933e+01 | -1.122768e+01 | -1.126057e+01 | -1.126118e+01 | -1.127864e+01 | -1.126263e+01 | -1.126261e+01 | -1.119967e+01 |\n",
       "| HQ(n) | -1.119500e+01 | -1.112880e+01 | -1.103843e+01 | -1.099435e+01 | -1.098481e+01 | -1.094301e+01 | -1.091804e+01 | -1.085960e+01 | -1.081716e+01 | -1.071179e+01 |\n",
       "| SC(n) | -1.103893e+01 | -1.091030e+01 | -1.075749e+01 | -1.065099e+01 | -1.057902e+01 | -1.047478e+01 | -1.038739e+01 | -1.026652e+01 | -1.016165e+01 | -9.993853e+00 |\n",
       "| FPE(n) |  1.236193e-05 |  1.266315e-05 |  1.329228e-05 |  1.332538e-05 |  1.290988e-05 |  1.292325e-05 |  1.272722e-05 |  1.296849e-05 |  1.301338e-05 |  1.391722e-05 |\n",
       "\n",
       "\n",
       "\n",
       "\n"
      ],
      "text/plain": [
       "$selection\n",
       "AIC(n)  HQ(n)  SC(n) FPE(n) \n",
       "     1      1      1      1 \n",
       "\n",
       "$criteria\n",
       "                   1             2             3             4             5\n",
       "AIC(n) -1.130106e+01 -1.127729e+01 -1.122933e+01 -1.122768e+01 -1.126057e+01\n",
       "HQ(n)  -1.119500e+01 -1.112880e+01 -1.103843e+01 -1.099435e+01 -1.098481e+01\n",
       "SC(n)  -1.103893e+01 -1.091030e+01 -1.075749e+01 -1.065099e+01 -1.057902e+01\n",
       "FPE(n)  1.236193e-05  1.266315e-05  1.329228e-05  1.332538e-05  1.290988e-05\n",
       "                   6             7             8             9            10\n",
       "AIC(n) -1.126118e+01 -1.127864e+01 -1.126263e+01 -1.126261e+01 -1.119967e+01\n",
       "HQ(n)  -1.094301e+01 -1.091804e+01 -1.085960e+01 -1.081716e+01 -1.071179e+01\n",
       "SC(n)  -1.047478e+01 -1.038739e+01 -1.026652e+01 -1.016165e+01 -9.993853e+00\n",
       "FPE(n)  1.292325e-05  1.272722e-05  1.296849e-05  1.301338e-05  1.391722e-05\n"
      ]
     },
     "metadata": {},
     "output_type": "display_data"
    }
   ],
   "source": [
    "# Lag selection for VAR\n",
    "VARorder(df_train, 10)\n",
    "VARorderI(df_train, 10)\n",
    "\n",
    "# Lag selection for VARX\n",
    "VARselect(df_end_train, exogen = df_ex_train)"
   ]
  },
  {
   "cell_type": "markdown",
   "id": "47e6882d",
   "metadata": {},
   "source": [
    "Our first VAR model will have a ton of variables, because each of the lags of each feature will be a variable itself. So to reduce complexity we will just remove the variables whose coefficients have a p-value smaller than 0.05 and we will re-fit the model accordingly. Once we refined our model we can then check how returns are affected by sudden changes in sentiment.  "
   ]
  },
  {
   "cell_type": "code",
   "execution_count": 71,
   "id": "3fa9c1ae",
   "metadata": {
    "vscode": {
     "languageId": "r"
    }
   },
   "outputs": [
    {
     "data": {
      "text/plain": [
       "\n",
       "VAR Estimation Results:\n",
       "========================= \n",
       "Endogenous variables: r, d_vol, sent_avg, eng_var \n",
       "Deterministic variables: const \n",
       "Sample size: 106 \n",
       "Log Likelihood: -261.89 \n",
       "Roots of the characteristic polynomial:\n",
       "0.7653 0.6667 0.6667 0.5798 0.5798 0.5585 0.5585 0.467 0.467 0.3186 0.3186 0.2302\n",
       "Call:\n",
       "VAR(y = df_train, p = 3)\n",
       "\n",
       "\n",
       "Estimation results for equation r: \n",
       "================================== \n",
       "r = r.l1 + r.l3 + eng_var.l3 + const \n",
       "\n",
       "             Estimate Std. Error t value Pr(>|t|)\n",
       "r.l1       -1.481e-01  9.619e-02  -1.539    0.127\n",
       "r.l3        9.485e-02  9.467e-02   1.002    0.319\n",
       "eng_var.l3 -1.449e-05  1.282e-05  -1.130    0.261\n",
       "const       3.846e-03  3.705e-03   1.038    0.302\n",
       "\n",
       "\n",
       "Residual standard error: 0.01654 on 102 degrees of freedom\n",
       "Multiple R-Squared: 0.0423,\tAdjusted R-squared: 0.004747 \n",
       "F-statistic: 1.126 on 4 and 102 DF,  p-value: 0.3483 \n",
       "\n",
       "\n",
       "Estimation results for equation d_vol: \n",
       "====================================== \n",
       "d_vol = r.l1 + d_vol.l1 + r.l2 + d_vol.l2 + sent_avg.l2 + r.l3 + eng_var.l3 + const \n",
       "\n",
       "              Estimate Std. Error t value Pr(>|t|)   \n",
       "r.l1        -1.3283295  1.1303018  -1.175  0.24276   \n",
       "d_vol.l1    -0.1249842  0.0975615  -1.281  0.20319   \n",
       "r.l2        -1.2531859  1.1310979  -1.108  0.27060   \n",
       "d_vol.l2    -0.2044318  0.0966314  -2.116  0.03692 * \n",
       "sent_avg.l2 -0.2064992  0.1113672  -1.854  0.06672 . \n",
       "r.l3         1.0952883  1.0903172   1.005  0.31758   \n",
       "eng_var.l3  -0.0002654  0.0001452  -1.828  0.07065 . \n",
       "const        0.1968376  0.0720091   2.734  0.00744 **\n",
       "---\n",
       "Signif. codes:  0 '***' 0.001 '**' 0.01 '*' 0.05 '.' 0.1 ' ' 1\n",
       "\n",
       "\n",
       "Residual standard error: 0.1862 on 98 degrees of freedom\n",
       "Multiple R-Squared: 0.1325,\tAdjusted R-squared: 0.06165 \n",
       "F-statistic: 1.871 on 8 and 98 DF,  p-value: 0.07323 \n",
       "\n",
       "\n",
       "Estimation results for equation sent_avg: \n",
       "========================================= \n",
       "sent_avg = r.l1 + sent_avg.l1 + d_vol.l2 + sent_avg.l2 + r.l3 + d_vol.l3 + sent_avg.l3 + const \n",
       "\n",
       "            Estimate Std. Error t value Pr(>|t|)    \n",
       "r.l1         1.11128    0.80590   1.379  0.17105    \n",
       "sent_avg.l1  0.24664    0.09405   2.622  0.01012 *  \n",
       "d_vol.l2     0.19301    0.06986   2.763  0.00684 ** \n",
       "sent_avg.l2  0.14480    0.09458   1.531  0.12898    \n",
       "r.l3         2.53778    0.80686   3.145  0.00220 ** \n",
       "d_vol.l3     0.08926    0.07156   1.247  0.21524    \n",
       "sent_avg.l3  0.16866    0.08946   1.885  0.06236 .  \n",
       "const        0.23866    0.05830   4.093 8.74e-05 ***\n",
       "---\n",
       "Signif. codes:  0 '***' 0.001 '**' 0.01 '*' 0.05 '.' 0.1 ' ' 1\n",
       "\n",
       "\n",
       "Residual standard error: 0.1374 on 98 degrees of freedom\n",
       "Multiple R-Squared: 0.9456,\tAdjusted R-squared: 0.9412 \n",
       "F-statistic: 213.1 on 8 and 98 DF,  p-value: < 2.2e-16 \n",
       "\n",
       "\n",
       "Estimation results for equation eng_var: \n",
       "======================================== \n",
       "eng_var = d_vol.l1 + sent_avg.l1 + eng_var.l1 + r.l2 + sent_avg.l2 + eng_var.l2 + d_vol.l3 + eng_var.l3 + const \n",
       "\n",
       "              Estimate Std. Error t value Pr(>|t|)    \n",
       "d_vol.l1      82.45759   59.15507   1.394   0.1665    \n",
       "sent_avg.l1 -193.01407   77.64598  -2.486   0.0146 *  \n",
       "eng_var.l1     0.11629    0.09543   1.219   0.2260    \n",
       "r.l2        1477.12054  672.05746   2.198   0.0303 *  \n",
       "sent_avg.l2  -86.79111   76.60621  -1.133   0.2600    \n",
       "eng_var.l2     0.13201    0.09439   1.399   0.1651    \n",
       "d_vol.l3     115.89597   60.22072   1.925   0.0572 .  \n",
       "eng_var.l3    -0.14550    0.09274  -1.569   0.1199    \n",
       "const        382.69023   64.16811   5.964    4e-08 ***\n",
       "---\n",
       "Signif. codes:  0 '***' 0.001 '**' 0.01 '*' 0.05 '.' 0.1 ' ' 1\n",
       "\n",
       "\n",
       "Residual standard error: 114.2 on 97 degrees of freedom\n",
       "Multiple R-Squared: 0.8569,\tAdjusted R-squared: 0.8436 \n",
       "F-statistic: 64.53 on 9 and 97 DF,  p-value: < 2.2e-16 \n",
       "\n",
       "\n",
       "\n",
       "Covariance matrix of residuals:\n",
       "                  r      d_vol   sent_avg    eng_var\n",
       "r         3.000e-04 -0.0007847 -5.412e-05    -0.1782\n",
       "d_vol    -7.847e-04  0.0365488 -3.688e-04     0.3121\n",
       "sent_avg -5.412e-05 -0.0003688  1.989e-02    -0.5129\n",
       "eng_var  -1.782e-01  0.3121234 -5.129e-01 13614.3291\n",
       "\n",
       "Correlation matrix of residuals:\n",
       "                r    d_vol sent_avg  eng_var\n",
       "r         1.00000 -0.23697 -0.02215 -0.08815\n",
       "d_vol    -0.23697  1.00000 -0.01368  0.01399\n",
       "sent_avg -0.02215 -0.01368  1.00000 -0.03117\n",
       "eng_var  -0.08815  0.01399 -0.03117  1.00000\n",
       "\n"
      ]
     },
     "metadata": {},
     "output_type": "display_data"
    },
    {
     "data": {
      "image/png": "[encoded data removed]",
      "text/plain": [
       "plot without title"
      ]
     },
     "metadata": {
      "image/png": {
       "height": 420,
       "width": 420
      }
     },
     "output_type": "display_data"
    },
    {
     "data": {
      "image/png": "[encoded data removed]",
      "text/plain": [
       "plot without title"
      ]
     },
     "metadata": {
      "image/png": {
       "height": 420,
       "width": 420
      }
     },
     "output_type": "display_data"
    },
    {
     "data": {
      "image/png": "[encoded data removed]",
      "text/plain": [
       "plot without title"
      ]
     },
     "metadata": {
      "image/png": {
       "height": 420,
       "width": 420
      }
     },
     "output_type": "display_data"
    },
    {
     "data": {
      "image/png": "[encoded data removed]",
      "text/plain": [
       "plot without title"
      ]
     },
     "metadata": {
      "image/png": {
       "height": 420,
       "width": 420
      }
     },
     "output_type": "display_data"
    }
   ],
   "source": [
    "var_1 <- VAR(df_train, p = 3)\n",
    "\n",
    "var_2 <- restrict(var_1,thresh = 1)\n",
    "summary(var_2)\n",
    "\n",
    "var_irf <- irf(var_2, response = \"r\")\n",
    "plot(var_irf)"
   ]
  },
  {
   "cell_type": "markdown",
   "id": "f5511894",
   "metadata": {},
   "source": [
    " "
   ]
  },
  {
   "cell_type": "code",
   "execution_count": 72,
   "id": "70290ba6",
   "metadata": {
    "vscode": {
     "languageId": "r"
    }
   },
   "outputs": [
    {
     "data": {
      "text/plain": [
       "\n",
       "VAR Estimation Results:\n",
       "========================= \n",
       "Endogenous variables: r, d_vol \n",
       "Deterministic variables: const \n",
       "Sample size: 102 \n",
       "Log Likelihood: 307.852 \n",
       "Roots of the characteristic polynomial:\n",
       "0.8289 0.8289 0.8238 0.8238 0.8049 0.8025 0.8025 0.7651 0.7651 0.7277 0.7277 0.6611     0     0\n",
       "Call:\n",
       "VAR(y = df_end_train, p = 7, exogen = df_ex_train)\n",
       "\n",
       "\n",
       "Estimation results for equation r: \n",
       "================================== \n",
       "r = r.l5 + d_vol.l7 \n",
       "\n",
       "          Estimate Std. Error t value Pr(>|t|)  \n",
       "r.l5     -0.215740   0.094459  -2.284   0.0245 *\n",
       "d_vol.l7 -0.021266   0.008211  -2.590   0.0110 *\n",
       "---\n",
       "Signif. codes:  0 '***' 0.001 '**' 0.01 '*' 0.05 '.' 0.1 ' ' 1\n",
       "\n",
       "\n",
       "Residual standard error: 0.01617 on 100 degrees of freedom\n",
       "Multiple R-Squared: 0.1022,\tAdjusted R-squared: 0.08425 \n",
       "F-statistic: 5.692 on 2 and 100 DF,  p-value: 0.004559 \n",
       "\n",
       "\n",
       "Estimation results for equation d_vol: \n",
       "====================================== \n",
       "d_vol = d_vol.l2 + d_vol.l4 + r.l5 \n",
       "\n",
       "         Estimate Std. Error t value Pr(>|t|)  \n",
       "d_vol.l2 -0.22925    0.09673  -2.370   0.0197 *\n",
       "d_vol.l4 -0.21010    0.09647  -2.178   0.0318 *\n",
       "r.l5     -2.32907    1.08223  -2.152   0.0338 *\n",
       "---\n",
       "Signif. codes:  0 '***' 0.001 '**' 0.01 '*' 0.05 '.' 0.1 ' ' 1\n",
       "\n",
       "\n",
       "Residual standard error: 0.1847 on 99 degrees of freedom\n",
       "Multiple R-Squared: 0.1201,\tAdjusted R-squared: 0.09339 \n",
       "F-statistic: 4.502 on 3 and 99 DF,  p-value: 0.005271 \n",
       "\n",
       "\n",
       "\n",
       "Covariance matrix of residuals:\n",
       "               r      d_vol\n",
       "r      0.0003076 -0.0006555\n",
       "d_vol -0.0006555  0.0391061\n",
       "\n",
       "Correlation matrix of residuals:\n",
       "           r  d_vol\n",
       "r      1.000 -0.189\n",
       "d_vol -0.189  1.000\n",
       "\n"
      ]
     },
     "metadata": {},
     "output_type": "display_data"
    }
   ],
   "source": [
    "#VARX model---------------\n",
    "\n",
    "x1 <- VAR(df_end_train, 7, exogen = df_ex_train)\n",
    "\n",
    "x2 <- restrict(x1, method = \"ser\")\n",
    "summary(x2)"
   ]
  }
 ],
 "metadata": {
  "kernelspec": {
   "display_name": "R",
   "language": "R",
   "name": "ir"
  },
  "language_info": {
   "codemirror_mode": "r",
   "file_extension": ".r",
   "mimetype": "text/x-r-source",
   "name": "R",
   "pygments_lexer": "r",
   "version": "4.1.3"
  }
 },
 "nbformat": 4,
 "nbformat_minor": 5
}
