{
 "cells": [
  {
   "cell_type": "markdown",
   "id": "51a136da",
   "metadata": {},
   "source": [
    "# VAR modeling \n",
    "To assess the relationship between Wallstreetbest sentiment and stock's data, we will use VAR models. \n",
    "\n",
    "The VAR model is a statistical model for forecasting time series data. The difference between VAR and other time series models like ARIMA, ARMA or GARCH, is that VAR allows for multivariate analysis, and can also be used with exogenous variables(pretty much timeseries modeling for endogenous and common regression for exogenous)."
   ]
  },
  {
   "cell_type": "code",
   "execution_count": 220,
   "id": "57a65e63",
   "metadata": {
    "vscode": {
     "languageId": "r"
    }
   },
   "outputs": [],
   "source": [
    "library(tidyverse);\n",
    "library(recipes);\n",
    "library(caret);\n",
    "library(xts);\n",
    "library(MTS);\n",
    "library(tseries);\n",
    "library(forecast);\n",
    "library(vars);\n",
    "library(lmtest);"
   ]
  },
  {
   "cell_type": "markdown",
   "id": "73e449fc",
   "metadata": {},
   "source": [
    "Before training our model we need to deal with Null values by inputing the three missing values. Since our data is sequential, and we already have few observations, I prefered not to discard the row contsining the null values.\n",
    "When fitting a VAR model we usually don't need to scale our variables so we will keep them as they are.\n",
    "\n",
    "Some of the variables are highly correlated, for example r and logr represent the same thing, so we will keep only r for the sake of interpretability, logr might come handy in the furure to fit a GARCH model."
   ]
  },
  {
   "cell_type": "code",
   "execution_count": 221,
   "id": "bafcaa84",
   "metadata": {
    "vscode": {
     "languageId": "r"
    }
   },
   "outputs": [
    {
     "data": {
      "text/html": [
       "<table class=\"dataframe\">\n",
       "<caption>A matrix: 8 × 8 of type dbl</caption>\n",
       "<thead>\n",
       "\t<tr><th></th><th scope=col>r</th><th scope=col>d_vol</th><th scope=col>sent_avg</th><th scope=col>sent_var</th><th scope=col>eng_avg</th><th scope=col>eng_var</th><th scope=col>engsent_avg</th><th scope=col>engsent_var</th></tr>\n",
       "</thead>\n",
       "<tbody>\n",
       "\t<tr><th scope=row>r</th><td> 1.000000000</td><td>-0.150856421</td><td>-0.074694295</td><td>-0.008354104</td><td>0.006487019</td><td> 0.04417403</td><td>-0.08380139</td><td> 0.010591140</td></tr>\n",
       "\t<tr><th scope=row>d_vol</th><td>-0.150856421</td><td> 1.000000000</td><td> 0.002971014</td><td>-0.001899942</td><td>0.128256920</td><td> 0.07772463</td><td> 0.06847349</td><td>-0.003344306</td></tr>\n",
       "\t<tr><th scope=row>sent_avg</th><td>-0.074694295</td><td> 0.002971014</td><td> 1.000000000</td><td>-0.727321191</td><td>0.160814468</td><td>-0.13288172</td><td> 0.78081716</td><td>-0.362443206</td></tr>\n",
       "\t<tr><th scope=row>sent_var</th><td>-0.008354104</td><td>-0.001899942</td><td>-0.727321191</td><td> 1.000000000</td><td>0.039073037</td><td> 0.15072593</td><td>-0.52035087</td><td> 0.597085762</td></tr>\n",
       "\t<tr><th scope=row>eng_avg</th><td> 0.006487019</td><td> 0.128256920</td><td> 0.160814468</td><td> 0.039073037</td><td>1.000000000</td><td> 0.49805770</td><td> 0.56379709</td><td> 0.592579401</td></tr>\n",
       "\t<tr><th scope=row>eng_var</th><td> 0.044174035</td><td> 0.077724634</td><td>-0.132881721</td><td> 0.150725931</td><td>0.498057703</td><td> 1.00000000</td><td> 0.16172549</td><td> 0.572485419</td></tr>\n",
       "\t<tr><th scope=row>engsent_avg</th><td>-0.083801386</td><td> 0.068473492</td><td> 0.780817159</td><td>-0.520350867</td><td>0.563797089</td><td> 0.16172549</td><td> 1.00000000</td><td>-0.027475462</td></tr>\n",
       "\t<tr><th scope=row>engsent_var</th><td> 0.010591140</td><td>-0.003344306</td><td>-0.362443206</td><td> 0.597085762</td><td>0.592579401</td><td> 0.57248542</td><td>-0.02747546</td><td> 1.000000000</td></tr>\n",
       "</tbody>\n",
       "</table>\n"
      ],
      "text/latex": [
       "A matrix: 8 × 8 of type dbl\n",
       "\\begin{tabular}{r|llllllll}\n",
       "  & r & d\\_vol & sent\\_avg & sent\\_var & eng\\_avg & eng\\_var & engsent\\_avg & engsent\\_var\\\\\n",
       "\\hline\n",
       "\tr &  1.000000000 & -0.150856421 & -0.074694295 & -0.008354104 & 0.006487019 &  0.04417403 & -0.08380139 &  0.010591140\\\\\n",
       "\td\\_vol & -0.150856421 &  1.000000000 &  0.002971014 & -0.001899942 & 0.128256920 &  0.07772463 &  0.06847349 & -0.003344306\\\\\n",
       "\tsent\\_avg & -0.074694295 &  0.002971014 &  1.000000000 & -0.727321191 & 0.160814468 & -0.13288172 &  0.78081716 & -0.362443206\\\\\n",
       "\tsent\\_var & -0.008354104 & -0.001899942 & -0.727321191 &  1.000000000 & 0.039073037 &  0.15072593 & -0.52035087 &  0.597085762\\\\\n",
       "\teng\\_avg &  0.006487019 &  0.128256920 &  0.160814468 &  0.039073037 & 1.000000000 &  0.49805770 &  0.56379709 &  0.592579401\\\\\n",
       "\teng\\_var &  0.044174035 &  0.077724634 & -0.132881721 &  0.150725931 & 0.498057703 &  1.00000000 &  0.16172549 &  0.572485419\\\\\n",
       "\tengsent\\_avg & -0.083801386 &  0.068473492 &  0.780817159 & -0.520350867 & 0.563797089 &  0.16172549 &  1.00000000 & -0.027475462\\\\\n",
       "\tengsent\\_var &  0.010591140 & -0.003344306 & -0.362443206 &  0.597085762 & 0.592579401 &  0.57248542 & -0.02747546 &  1.000000000\\\\\n",
       "\\end{tabular}\n"
      ],
      "text/markdown": [
       "\n",
       "A matrix: 8 × 8 of type dbl\n",
       "\n",
       "| <!--/--> | r | d_vol | sent_avg | sent_var | eng_avg | eng_var | engsent_avg | engsent_var |\n",
       "|---|---|---|---|---|---|---|---|---|\n",
       "| r |  1.000000000 | -0.150856421 | -0.074694295 | -0.008354104 | 0.006487019 |  0.04417403 | -0.08380139 |  0.010591140 |\n",
       "| d_vol | -0.150856421 |  1.000000000 |  0.002971014 | -0.001899942 | 0.128256920 |  0.07772463 |  0.06847349 | -0.003344306 |\n",
       "| sent_avg | -0.074694295 |  0.002971014 |  1.000000000 | -0.727321191 | 0.160814468 | -0.13288172 |  0.78081716 | -0.362443206 |\n",
       "| sent_var | -0.008354104 | -0.001899942 | -0.727321191 |  1.000000000 | 0.039073037 |  0.15072593 | -0.52035087 |  0.597085762 |\n",
       "| eng_avg |  0.006487019 |  0.128256920 |  0.160814468 |  0.039073037 | 1.000000000 |  0.49805770 |  0.56379709 |  0.592579401 |\n",
       "| eng_var |  0.044174035 |  0.077724634 | -0.132881721 |  0.150725931 | 0.498057703 |  1.00000000 |  0.16172549 |  0.572485419 |\n",
       "| engsent_avg | -0.083801386 |  0.068473492 |  0.780817159 | -0.520350867 | 0.563797089 |  0.16172549 |  1.00000000 | -0.027475462 |\n",
       "| engsent_var |  0.010591140 | -0.003344306 | -0.362443206 |  0.597085762 | 0.592579401 |  0.57248542 | -0.02747546 |  1.000000000 |\n",
       "\n"
      ],
      "text/plain": [
       "            r            d_vol        sent_avg     sent_var     eng_avg    \n",
       "r            1.000000000 -0.150856421 -0.074694295 -0.008354104 0.006487019\n",
       "d_vol       -0.150856421  1.000000000  0.002971014 -0.001899942 0.128256920\n",
       "sent_avg    -0.074694295  0.002971014  1.000000000 -0.727321191 0.160814468\n",
       "sent_var    -0.008354104 -0.001899942 -0.727321191  1.000000000 0.039073037\n",
       "eng_avg      0.006487019  0.128256920  0.160814468  0.039073037 1.000000000\n",
       "eng_var      0.044174035  0.077724634 -0.132881721  0.150725931 0.498057703\n",
       "engsent_avg -0.083801386  0.068473492  0.780817159 -0.520350867 0.563797089\n",
       "engsent_var  0.010591140 -0.003344306 -0.362443206  0.597085762 0.592579401\n",
       "            eng_var     engsent_avg engsent_var \n",
       "r            0.04417403 -0.08380139  0.010591140\n",
       "d_vol        0.07772463  0.06847349 -0.003344306\n",
       "sent_avg    -0.13288172  0.78081716 -0.362443206\n",
       "sent_var     0.15072593 -0.52035087  0.597085762\n",
       "eng_avg      0.49805770  0.56379709  0.592579401\n",
       "eng_var      1.00000000  0.16172549  0.572485419\n",
       "engsent_avg  0.16172549  1.00000000 -0.027475462\n",
       "engsent_var  0.57248542 -0.02747546  1.000000000"
      ]
     },
     "metadata": {},
     "output_type": "display_data"
    },
    {
     "data": {
      "image/png": "[encoded data removed]",
      "text/plain": [
       "plot without title"
      ]
     },
     "metadata": {
      "image/png": {
       "height": 420,
       "width": 420
      }
     },
     "output_type": "display_data"
    }
   ],
   "source": [
    "r50 <- read.csv(file = \"../data/r50_2023.csv\",\n",
    "                header = TRUE,\n",
    "                sep = \",\",\n",
    "                dec = \".\")\n",
    "\n",
    "# Center and scale\n",
    "recipe <-\n",
    "    recipe(~., data = r50) %>%\n",
    "    step_impute_mean(all_numeric()) %>%\n",
    "    step_select(-c(X, timestamp)) \n",
    "\n",
    "recipe <- prep(recipe, training = r50)\n",
    "\n",
    "r50_clean <- bake(recipe, r50)\n",
    "\n",
    "heatmap(cor(r50_clean))\n",
    "\n",
    "r50_clean <- subset(r50_clean, select = -c(logr, d_logvol))\n",
    "    \n",
    "r50_clean <- r50_clean[c( \"r\", \"d_vol\", \"sent_avg\", \"sent_var\", \"eng_avg\", \"eng_var\", \"engsent_avg\", \"engsent_var\")] \n",
    "\n",
    "cor(r50_clean)\n",
    "\n"
   ]
  },
  {
   "cell_type": "markdown",
   "id": "51a8a952",
   "metadata": {},
   "source": [
    "One of the key assumptions of VAR is the stationarity of the data, that is, that the time series have costant mean, costant variance and costant autocovariance. To make it simple, we don't want to have patterns or long term trends, but we want our time series to behave in a similar manner across different periods. \n",
    "\n",
    "We can assess stationarity by rejecting the null hypothesis of the Augmented Dickey-Fuller (ADF) test. In the table below we can see that all our feature are stationary, while sent_var might not be stationary. Due to the p-value we can assume that it should be stationary."
   ]
  },
  {
   "cell_type": "code",
   "execution_count": 222,
   "id": "2c47a168",
   "metadata": {
    "vscode": {
     "languageId": "r"
    }
   },
   "outputs": [
    {
     "data": {
      "text/html": [
       "<table class=\"dataframe\">\n",
       "<caption>A data.frame: 8 × 2</caption>\n",
       "<thead>\n",
       "\t<tr><th></th><th scope=col>Variable</th><th scope=col>P_Value</th></tr>\n",
       "\t<tr><th></th><th scope=col>&lt;chr&gt;</th><th scope=col>&lt;dbl&gt;</th></tr>\n",
       "</thead>\n",
       "<tbody>\n",
       "\t<tr><th scope=row>1</th><td>sent_avg   </td><td>0.01437974</td></tr>\n",
       "\t<tr><th scope=row>2</th><td>sent_var   </td><td>0.05703999</td></tr>\n",
       "\t<tr><th scope=row>3</th><td>eng_avg    </td><td>0.02047366</td></tr>\n",
       "\t<tr><th scope=row>4</th><td>eng_var    </td><td>0.01000000</td></tr>\n",
       "\t<tr><th scope=row>5</th><td>engsent_avg</td><td>0.01000000</td></tr>\n",
       "\t<tr><th scope=row>6</th><td>engsent_var</td><td>0.01000000</td></tr>\n",
       "\t<tr><th scope=row>7</th><td>r          </td><td>0.01000000</td></tr>\n",
       "\t<tr><th scope=row>8</th><td>d_vol      </td><td>0.01000000</td></tr>\n",
       "</tbody>\n",
       "</table>\n"
      ],
      "text/latex": [
       "A data.frame: 8 × 2\n",
       "\\begin{tabular}{r|ll}\n",
       "  & Variable & P\\_Value\\\\\n",
       "  & <chr> & <dbl>\\\\\n",
       "\\hline\n",
       "\t1 & sent\\_avg    & 0.01437974\\\\\n",
       "\t2 & sent\\_var    & 0.05703999\\\\\n",
       "\t3 & eng\\_avg     & 0.02047366\\\\\n",
       "\t4 & eng\\_var     & 0.01000000\\\\\n",
       "\t5 & engsent\\_avg & 0.01000000\\\\\n",
       "\t6 & engsent\\_var & 0.01000000\\\\\n",
       "\t7 & r           & 0.01000000\\\\\n",
       "\t8 & d\\_vol       & 0.01000000\\\\\n",
       "\\end{tabular}\n"
      ],
      "text/markdown": [
       "\n",
       "A data.frame: 8 × 2\n",
       "\n",
       "| <!--/--> | Variable &lt;chr&gt; | P_Value &lt;dbl&gt; |\n",
       "|---|---|---|\n",
       "| 1 | sent_avg    | 0.01437974 |\n",
       "| 2 | sent_var    | 0.05703999 |\n",
       "| 3 | eng_avg     | 0.02047366 |\n",
       "| 4 | eng_var     | 0.01000000 |\n",
       "| 5 | engsent_avg | 0.01000000 |\n",
       "| 6 | engsent_var | 0.01000000 |\n",
       "| 7 | r           | 0.01000000 |\n",
       "| 8 | d_vol       | 0.01000000 |\n",
       "\n"
      ],
      "text/plain": [
       "  Variable    P_Value   \n",
       "1 sent_avg    0.01437974\n",
       "2 sent_var    0.05703999\n",
       "3 eng_avg     0.02047366\n",
       "4 eng_var     0.01000000\n",
       "5 engsent_avg 0.01000000\n",
       "6 engsent_var 0.01000000\n",
       "7 r           0.01000000\n",
       "8 d_vol       0.01000000"
      ]
     },
     "metadata": {},
     "output_type": "display_data"
    }
   ],
   "source": [
    "variables <- c(\"sent_avg\", \"sent_var\", \"eng_avg\", \"eng_var\", \"engsent_avg\", \"engsent_var\", \"r\", \"d_vol\")\n",
    "\n",
    "adf_results <- data.frame(Variable = character(length(variables)), ADF_pValue = numeric(length(variables)))\n",
    "\n",
    "# Perform the adf test to all variables\n",
    "for (i in seq_along(variables)) {\n",
    "    suppressWarnings(adf_result <- adf.test(r50_clean[[variables[i]]]))\n",
    "    adf_results[i, \"Variable\"] <- variables[i]\n",
    "    adf_results[i, \"P_Value\"] <- adf_result$p.value\n",
    "}\n",
    "\n",
    "# Print the variable names and p-values of adf test\n",
    "head(adf_results[, c(\"Variable\", \"P_Value\")],10)\n"
   ]
  },
  {
   "cell_type": "markdown",
   "id": "05635a13",
   "metadata": {},
   "source": [
    "Once we have checked that the time series respect the model assumptions we can prepare the dataset fot training and testing. We will have different datasets for VAR and VARX, this because VARX needs an additional dataset input for exogenolus variables, that will be treated like normal estimators, without taking into account their lag. In orderot explore the impact of sentiment we will analyse it both as endogenous and as exogenous variables."
   ]
  },
  {
   "cell_type": "code",
   "execution_count": 223,
   "metadata": {
    "vscode": {
     "languageId": "r"
    }
   },
   "outputs": [],
   "source": [
    "# Train/Test split\n",
    "idx <- round(nrow(r50_clean) * 0.9)\n",
    "\n",
    "df_train <- head(r50_clean, idx) %>% na.omit()\n",
    "df_test <- tail(r50_clean,\n",
    "            nrow(r50_clean) - idx) %>%\n",
    "            na.omit()\n",
    "\n",
    "# Set r and d_vol as endogenous variables\n",
    "endogenous <- c(\"r\", \"d_vol\")\n",
    "\n",
    "# Set sentiment variables as exogenous\n",
    "exogenous <- c(\"sent_avg\", \"sent_var\", \"eng_avg\", \"eng_var\", \"engsent_avg\", \"engsent_var\")\n",
    "\n",
    "# VARX Exogenous\n",
    "df_ex_train <- df_train[exogenous]\n",
    "df_ex_test <- df_test[exogenous] \n",
    "\n",
    "# VARX Endogenous\n",
    "df_end_train <- df_train[endogenous]\n",
    "df_end_test <- df_test[endogenous]"
   ]
  },
  {
   "cell_type": "markdown",
   "id": "58c0cef0",
   "metadata": {},
   "source": [
    "Now that we have our training data, we can find the optimal number of lags to fit our model. VARoder and VARoderI both provide an insight on which is the bets lag, with the first one using statistical tests, the latter using impulse response functions. \n",
    "\n",
    "Both "
   ]
  },
  {
   "cell_type": "code",
   "execution_count": 224,
   "id": "84f08b8e",
   "metadata": {
    "vscode": {
     "languageId": "r"
    }
   },
   "outputs": [
    {
     "name": "stdout",
     "output_type": "stream",
     "text": [
      "selected order: aic =  10 \n",
      "selected order: bic =  0 \n",
      "selected order: hq =  0 \n",
      "Summary table:  \n",
      "       p     AIC     BIC     HQ    M(p) p-value\n",
      " [1,]  0  3.3510  3.3510 3.3510  0.0000  0.0000\n",
      " [2,]  1  3.5090  5.0892 4.1498 90.9621  0.0150\n",
      " [3,]  2  3.8364  6.9969 5.1181 69.0192  0.3117\n",
      " [4,]  3  4.0967  8.8375 6.0193 67.1796  0.3687\n",
      " [5,]  4  4.4013 10.7223 6.9647 56.9666  0.7212\n",
      " [6,]  5  4.2879 12.1891 7.4921 74.0443  0.1831\n",
      " [7,]  6  4.2770 13.7585 8.1221 58.6669  0.6649\n",
      " [8,]  7  3.8836 14.9453 8.3696 65.0600  0.4396\n",
      " [9,]  8  2.9072 15.5492 8.0340 72.0486  0.2291\n",
      "[10,]  9  1.5572 15.7793 7.3248 64.3715  0.4635\n",
      "[11,] 10 -1.7292 14.0732 4.6792 78.0629  0.1112\n",
      "selected order: aic =  10 \n",
      "selected order: bic =  0 \n",
      "selected order: hq =  0 \n",
      "M statistic and its p-value \n",
      "       Mstat        pv\n",
      " [1,] 125.53 6.915e-06\n",
      " [2,]  70.17 2.786e-01\n",
      " [3,]  63.15 5.065e-01\n",
      " [4,]  49.03 9.167e-01\n",
      " [5,]  79.39 9.310e-02\n",
      " [6,]  54.94 7.831e-01\n",
      " [7,]  66.03 4.065e-01\n",
      " [8,]  72.36 2.215e-01\n",
      " [9,]  71.11 2.529e-01\n",
      "[10,]  79.59 9.050e-02\n",
      "Summary table:  \n",
      "       p      AIC     BIC     HQ    M(p)    p-value\n",
      " [1,]  0  3.97721  3.9772 3.9772   0.000 0.0000e+00\n",
      " [2,]  1  3.75984  5.3492 4.4043 125.529 6.9153e-06\n",
      " [3,]  2  4.10622  7.3036 5.4024  70.168 2.7858e-01\n",
      " [4,]  3  4.47713  9.3015 6.4325  63.152 5.0648e-01\n",
      " [5,]  4  4.98214 11.4528 7.6042  49.029 9.1668e-01\n",
      " [6,]  5  4.87918 13.0158 8.1756  79.385 9.3099e-02\n",
      " [7,]  6  5.07180 14.8945 9.0503  54.937 7.8307e-01\n",
      " [8,]  7  4.80869 16.3380 9.4773  66.031 4.0652e-01\n",
      " [9,]  8  4.00311 17.2600 9.3699  72.356 2.2153e-01\n",
      "[10,]  9  2.59572 17.6015 8.6688  71.114 2.5292e-01\n",
      "[11,] 10 -0.54307 16.2335 6.2447  79.592 9.0500e-02\n"
     ]
    },
    {
     "data": {
      "text/html": [
       "<dl>\n",
       "\t<dt>$selection</dt>\n",
       "\t\t<dd><style>\n",
       ".dl-inline {width: auto; margin:0; padding: 0}\n",
       ".dl-inline>dt, .dl-inline>dd {float: none; width: auto; display: inline-block}\n",
       ".dl-inline>dt::after {content: \":\\0020\"; padding-right: .5ex}\n",
       ".dl-inline>dt:not(:first-of-type) {padding-left: .5ex}\n",
       "</style><dl class=dl-inline><dt>AIC(n)</dt><dd>7</dd><dt>HQ(n)</dt><dd>1</dd><dt>SC(n)</dt><dd>1</dd><dt>FPE(n)</dt><dd>7</dd></dl>\n",
       "</dd>\n",
       "\t<dt>$criteria</dt>\n",
       "\t\t<dd><table class=\"dataframe\">\n",
       "<caption>A matrix: 4 × 10 of type dbl</caption>\n",
       "<thead>\n",
       "\t<tr><th></th><th scope=col>1</th><th scope=col>2</th><th scope=col>3</th><th scope=col>4</th><th scope=col>5</th><th scope=col>6</th><th scope=col>7</th><th scope=col>8</th><th scope=col>9</th><th scope=col>10</th></tr>\n",
       "</thead>\n",
       "<tbody>\n",
       "\t<tr><th scope=row>AIC(n)</th><td>-1.121151e+01</td><td>-1.118766e+01</td><td>-1.113171e+01</td><td>-1.113364e+01</td><td>-1.115486e+01</td><td>-1.116717e+01</td><td>-1.122424e+01</td><td>-1.119565e+01</td><td>-1.119036e+01</td><td>-1.112407e+01</td></tr>\n",
       "\t<tr><th scope=row>HQ(n)</th><td>-1.102060e+01</td><td>-1.095433e+01</td><td>-1.085595e+01</td><td>-1.081546e+01</td><td>-1.079426e+01</td><td>-1.076414e+01</td><td>-1.077878e+01</td><td>-1.070778e+01</td><td>-1.066006e+01</td><td>-1.055135e+01</td></tr>\n",
       "\t<tr><th scope=row>SC(n)</th><td>-1.073967e+01</td><td>-1.061096e+01</td><td>-1.045016e+01</td><td>-1.034724e+01</td><td>-1.026361e+01</td><td>-1.017106e+01</td><td>-1.012328e+01</td><td>-9.989839e+00</td><td>-9.879695e+00</td><td>-9.708547e+00</td></tr>\n",
       "\t<tr><th scope=row>FPE(n)</th><td> 1.353130e-05</td><td> 1.386955e-05</td><td> 1.468538e-05</td><td> 1.468124e-05</td><td> 1.440428e-05</td><td> 1.426744e-05</td><td> 1.352252e-05</td><td> 1.397320e-05</td><td> 1.411842e-05</td><td> 1.517677e-05</td></tr>\n",
       "</tbody>\n",
       "</table>\n",
       "</dd>\n",
       "</dl>\n"
      ],
      "text/latex": [
       "\\begin{description}\n",
       "\\item[\\$selection] \\begin{description*}\n",
       "\\item[AIC(n)] 7\n",
       "\\item[HQ(n)] 1\n",
       "\\item[SC(n)] 1\n",
       "\\item[FPE(n)] 7\n",
       "\\end{description*}\n",
       "\n",
       "\\item[\\$criteria] A matrix: 4 × 10 of type dbl\n",
       "\\begin{tabular}{r|llllllllll}\n",
       "  & 1 & 2 & 3 & 4 & 5 & 6 & 7 & 8 & 9 & 10\\\\\n",
       "\\hline\n",
       "\tAIC(n) & -1.121151e+01 & -1.118766e+01 & -1.113171e+01 & -1.113364e+01 & -1.115486e+01 & -1.116717e+01 & -1.122424e+01 & -1.119565e+01 & -1.119036e+01 & -1.112407e+01\\\\\n",
       "\tHQ(n) & -1.102060e+01 & -1.095433e+01 & -1.085595e+01 & -1.081546e+01 & -1.079426e+01 & -1.076414e+01 & -1.077878e+01 & -1.070778e+01 & -1.066006e+01 & -1.055135e+01\\\\\n",
       "\tSC(n) & -1.073967e+01 & -1.061096e+01 & -1.045016e+01 & -1.034724e+01 & -1.026361e+01 & -1.017106e+01 & -1.012328e+01 & -9.989839e+00 & -9.879695e+00 & -9.708547e+00\\\\\n",
       "\tFPE(n) &  1.353130e-05 &  1.386955e-05 &  1.468538e-05 &  1.468124e-05 &  1.440428e-05 &  1.426744e-05 &  1.352252e-05 &  1.397320e-05 &  1.411842e-05 &  1.517677e-05\\\\\n",
       "\\end{tabular}\n",
       "\n",
       "\\end{description}\n"
      ],
      "text/markdown": [
       "$selection\n",
       ":   AIC(n)\n",
       ":   7HQ(n)\n",
       ":   1SC(n)\n",
       ":   1FPE(n)\n",
       ":   7\n",
       "\n",
       "\n",
       "$criteria\n",
       ":   \n",
       "A matrix: 4 × 10 of type dbl\n",
       "\n",
       "| <!--/--> | 1 | 2 | 3 | 4 | 5 | 6 | 7 | 8 | 9 | 10 |\n",
       "|---|---|---|---|---|---|---|---|---|---|---|\n",
       "| AIC(n) | -1.121151e+01 | -1.118766e+01 | -1.113171e+01 | -1.113364e+01 | -1.115486e+01 | -1.116717e+01 | -1.122424e+01 | -1.119565e+01 | -1.119036e+01 | -1.112407e+01 |\n",
       "| HQ(n) | -1.102060e+01 | -1.095433e+01 | -1.085595e+01 | -1.081546e+01 | -1.079426e+01 | -1.076414e+01 | -1.077878e+01 | -1.070778e+01 | -1.066006e+01 | -1.055135e+01 |\n",
       "| SC(n) | -1.073967e+01 | -1.061096e+01 | -1.045016e+01 | -1.034724e+01 | -1.026361e+01 | -1.017106e+01 | -1.012328e+01 | -9.989839e+00 | -9.879695e+00 | -9.708547e+00 |\n",
       "| FPE(n) |  1.353130e-05 |  1.386955e-05 |  1.468538e-05 |  1.468124e-05 |  1.440428e-05 |  1.426744e-05 |  1.352252e-05 |  1.397320e-05 |  1.411842e-05 |  1.517677e-05 |\n",
       "\n",
       "\n",
       "\n",
       "\n"
      ],
      "text/plain": [
       "$selection\n",
       "AIC(n)  HQ(n)  SC(n) FPE(n) \n",
       "     7      1      1      7 \n",
       "\n",
       "$criteria\n",
       "                   1             2             3             4             5\n",
       "AIC(n) -1.121151e+01 -1.118766e+01 -1.113171e+01 -1.113364e+01 -1.115486e+01\n",
       "HQ(n)  -1.102060e+01 -1.095433e+01 -1.085595e+01 -1.081546e+01 -1.079426e+01\n",
       "SC(n)  -1.073967e+01 -1.061096e+01 -1.045016e+01 -1.034724e+01 -1.026361e+01\n",
       "FPE(n)  1.353130e-05  1.386955e-05  1.468538e-05  1.468124e-05  1.440428e-05\n",
       "                   6             7             8             9            10\n",
       "AIC(n) -1.116717e+01 -1.122424e+01 -1.119565e+01 -1.119036e+01 -1.112407e+01\n",
       "HQ(n)  -1.076414e+01 -1.077878e+01 -1.070778e+01 -1.066006e+01 -1.055135e+01\n",
       "SC(n)  -1.017106e+01 -1.012328e+01 -9.989839e+00 -9.879695e+00 -9.708547e+00\n",
       "FPE(n)  1.426744e-05  1.352252e-05  1.397320e-05  1.411842e-05  1.517677e-05\n"
      ]
     },
     "metadata": {},
     "output_type": "display_data"
    }
   ],
   "source": [
    "# Lag selection for VAR\n",
    "VARorder(df_train, 10)\n",
    "VARorderI(df_train, 10)\n",
    "\n",
    "# Lag selection for VARX\n",
    "VARselect(df_end_train, exogen = df_ex_train)"
   ]
  },
  {
   "cell_type": "markdown",
   "id": "47e6882d",
   "metadata": {},
   "source": [
    "Our first VAR model will have a ton of variables, because each of the lags of each feature will be a variable itself. So to reduce complexity we will just remove the variables whose coefficients have a p-value smaller than 0.05 and we will re-fit the model accordingly. Once we refined our model we can then check how returns are affected by sudden changes in sentiment.  "
   ]
  },
  {
   "cell_type": "code",
   "execution_count": 225,
   "id": "3fa9c1ae",
   "metadata": {
    "vscode": {
     "languageId": "r"
    }
   },
   "outputs": [
    {
     "data": {
      "text/plain": [
       "\n",
       "VAR Estimation Results:\n",
       "========================= \n",
       "Endogenous variables: r, d_vol, sent_avg, sent_var, eng_avg, eng_var, engsent_avg, engsent_var \n",
       "Deterministic variables: none \n",
       "Sample size: 99 \n",
       "Log Likelihood: -1167.696 \n",
       "Roots of the characteristic polynomial:\n",
       "1.196 1.196 1.043 1.043 1.021 1.021 1.013 1.013     1 0.9919 0.9919 0.9766 0.9766 0.9705 0.9705 0.9694 0.9659 0.9659 0.9646 0.9646 0.9603 0.9603 0.9552 0.9484 0.9484 0.9416 0.9286 0.9286 0.921 0.921 0.911 0.911 0.9094 0.9094 0.9073 0.9073 0.9049 0.9049 0.903 0.903 0.9025 0.9025 0.9018 0.9018 0.8857 0.8857 0.884 0.884 0.8824 0.8824 0.8791 0.8791 0.8704 0.8704 0.8541 0.8541 0.8463 0.8463 0.8254 0.8254 0.8148 0.7808 0.7808 0.7707 0.7694 0.7694 0.7262 0.7262 0.6861 0.6861 0.5867 0.4607 0.4607  0.31 1.657e-05 1.657e-05 1.657e-05 5.731e-16     0     0\n",
       "Call:\n",
       "VAR(y = df_train, p = 10, type = \"none\")\n",
       "\n",
       "\n",
       "Estimation results for equation r: \n",
       "================================== \n",
       "r = r.l1 + sent_var.l2 + eng_avg.l2 + engsent_avg.l2 + sent_var.l3 + eng_var.l3 + engsent_var.l3 + d_vol.l4 + sent_avg.l5 + d_vol.l7 + r.l8 + sent_avg.l8 + sent_var.l8 + eng_avg.l10 \n",
       "\n",
       "                 Estimate Std. Error t value Pr(>|t|)    \n",
       "r.l1           -3.497e-01  9.370e-02  -3.732 0.000342 ***\n",
       "sent_var.l2    -3.051e-02  1.214e-02  -2.512 0.013879 *  \n",
       "eng_avg.l2      1.820e-03  4.285e-04   4.248 5.49e-05 ***\n",
       "engsent_avg.l2 -2.044e-03  5.163e-04  -3.958 0.000156 ***\n",
       "sent_var.l3    -2.708e-02  1.338e-02  -2.024 0.046144 *  \n",
       "eng_var.l3     -4.208e-05  1.600e-05  -2.629 0.010160 *  \n",
       "engsent_var.l3  3.740e-05  1.490e-05   2.510 0.013976 *  \n",
       "d_vol.l4        2.975e-02  8.593e-03   3.463 0.000840 ***\n",
       "sent_avg.l5     3.611e-02  1.204e-02   3.000 0.003544 ** \n",
       "d_vol.l7       -3.383e-02  8.387e-03  -4.034 0.000119 ***\n",
       "r.l8           -3.642e-01  1.019e-01  -3.575 0.000581 ***\n",
       "sent_avg.l8    -3.954e-02  1.337e-02  -2.958 0.004010 ** \n",
       "sent_var.l8    -4.215e-02  1.261e-02  -3.342 0.001240 ** \n",
       "eng_avg.l10     5.003e-04  2.397e-04   2.087 0.039869 *  \n",
       "---\n",
       "Signif. codes:  0 '***' 0.001 '**' 0.01 '*' 0.05 '.' 0.1 ' ' 1\n",
       "\n",
       "\n",
       "Residual standard error: 0.01479 on 85 degrees of freedom\n",
       "Multiple R-Squared: 0.3576,\tAdjusted R-squared: 0.2518 \n",
       "F-statistic:  3.38 on 14 and 85 DF,  p-value: 0.0002428 \n",
       "\n",
       "\n",
       "Estimation results for equation d_vol: \n",
       "====================================== \n",
       "d_vol = d_vol.l2 + eng_var.l2 + d_vol.l4 + sent_avg.l4 + engsent_avg.l4 + engsent_var.l4 + eng_avg.l5 + engsent_avg.l5 + d_vol.l7 + eng_avg.l7 + engsent_avg.l7 + engsent_var.l7 + d_vol.l8 + sent_avg.l8 + sent_var.l8 + sent_avg.l9 + sent_var.l9 + sent_avg.l10 + eng_var.l10 + engsent_var.l10 \n",
       "\n",
       "                  Estimate Std. Error t value Pr(>|t|)    \n",
       "d_vol.l2        -3.132e-01  8.773e-02  -3.570 0.000611 ***\n",
       "eng_var.l2      -4.611e-04  1.353e-04  -3.409 0.001029 ** \n",
       "d_vol.l4        -2.619e-01  8.554e-02  -3.062 0.003009 ** \n",
       "sent_avg.l4     -6.165e-01  1.965e-01  -3.137 0.002402 ** \n",
       "engsent_avg.l4   1.034e-02  5.045e-03   2.050 0.043647 *  \n",
       "engsent_var.l4  -3.917e-04  9.667e-05  -4.052 0.000118 ***\n",
       "eng_avg.l5       1.224e-02  3.600e-03   3.399 0.001064 ** \n",
       "engsent_avg.l5  -7.516e-03  3.543e-03  -2.121 0.037025 *  \n",
       "d_vol.l7         3.186e-01  8.289e-02   3.844 0.000243 ***\n",
       "eng_avg.l7      -2.331e-02  4.768e-03  -4.889 5.23e-06 ***\n",
       "engsent_avg.l7   1.704e-02  4.006e-03   4.254 5.72e-05 ***\n",
       "engsent_var.l7   3.855e-04  1.192e-04   3.233 0.001788 ** \n",
       "d_vol.l8         1.844e-01  7.814e-02   2.360 0.020738 *  \n",
       "sent_avg.l8      4.612e-01  1.641e-01   2.811 0.006218 ** \n",
       "sent_var.l8      5.163e-01  1.527e-01   3.381 0.001125 ** \n",
       "sent_avg.l9      5.442e-01  1.700e-01   3.201 0.001975 ** \n",
       "sent_var.l9      2.935e-01  1.422e-01   2.064 0.042290 *  \n",
       "sent_avg.l10    -6.265e-01  1.287e-01  -4.867 5.68e-06 ***\n",
       "eng_var.l10      6.067e-04  1.623e-04   3.739 0.000348 ***\n",
       "engsent_var.l10 -3.832e-04  1.172e-04  -3.270 0.001593 ** \n",
       "---\n",
       "Signif. codes:  0 '***' 0.001 '**' 0.01 '*' 0.05 '.' 0.1 ' ' 1\n",
       "\n",
       "\n",
       "Residual standard error: 0.1424 on 79 degrees of freedom\n",
       "Multiple R-Squared: 0.5713,\tAdjusted R-squared: 0.4628 \n",
       "F-statistic: 5.265 on 20 and 79 DF,  p-value: 4.23e-08 \n",
       "\n",
       "\n",
       "Estimation results for equation sent_avg: \n",
       "========================================= \n",
       "sent_avg = sent_avg.l1 + eng_avg.l1 + engsent_var.l1 + d_vol.l2 + sent_var.l2 + eng_avg.l2 + engsent_var.l2 + r.l3 + d_vol.l3 + r.l4 + sent_avg.l5 + engsent_var.l5 + sent_avg.l6 + eng_avg.l6 + engsent_var.l6 + sent_avg.l7 + eng_avg.l7 + engsent_avg.l7 + d_vol.l9 \n",
       "\n",
       "                 Estimate Std. Error t value Pr(>|t|)    \n",
       "sent_avg.l1     2.943e-01  9.254e-02   3.181 0.002090 ** \n",
       "eng_avg.l1     -7.454e-03  3.119e-03  -2.390 0.019216 *  \n",
       "engsent_var.l1  3.224e-04  8.847e-05   3.644 0.000476 ***\n",
       "d_vol.l2        1.783e-01  5.847e-02   3.049 0.003111 ** \n",
       "sent_var.l2    -2.969e-01  1.089e-01  -2.726 0.007880 ** \n",
       "eng_avg.l2     -7.633e-03  3.258e-03  -2.343 0.021621 *  \n",
       "engsent_var.l2  2.809e-04  1.268e-04   2.215 0.029589 *  \n",
       "r.l3            2.910e+00  6.859e-01   4.243 5.89e-05 ***\n",
       "d_vol.l3        2.075e-01  6.438e-02   3.224 0.001833 ** \n",
       "r.l4            1.802e+00  6.991e-01   2.578 0.011774 *  \n",
       "sent_avg.l5     5.163e-01  9.828e-02   5.253 1.21e-06 ***\n",
       "engsent_var.l5  2.128e-04  6.813e-05   3.123 0.002493 ** \n",
       "sent_avg.l6    -3.512e-01  1.022e-01  -3.435 0.000943 ***\n",
       "eng_avg.l6      1.186e-02  2.942e-03   4.031 0.000126 ***\n",
       "engsent_var.l6 -4.555e-04  9.623e-05  -4.734 9.36e-06 ***\n",
       "sent_avg.l7     7.581e-01  1.484e-01   5.110 2.15e-06 ***\n",
       "eng_avg.l7      1.333e-02  2.942e-03   4.531 2.03e-05 ***\n",
       "engsent_avg.l7 -2.983e-02  4.988e-03  -5.980 5.95e-08 ***\n",
       "d_vol.l9        1.858e-01  6.244e-02   2.976 0.003866 ** \n",
       "---\n",
       "Signif. codes:  0 '***' 0.001 '**' 0.01 '*' 0.05 '.' 0.1 ' ' 1\n",
       "\n",
       "\n",
       "Residual standard error: 0.1072 on 80 degrees of freedom\n",
       "Multiple R-Squared: 0.9723,\tAdjusted R-squared: 0.9657 \n",
       "F-statistic: 147.6 on 19 and 80 DF,  p-value: < 2.2e-16 \n",
       "\n",
       "\n",
       "Estimation results for equation sent_var: \n",
       "========================================= \n",
       "sent_var = r.l3 + engsent_avg.l3 + sent_var.l4 + eng_avg.l4 + engsent_var.l4 + eng_avg.l6 + engsent_var.l6 + d_vol.l7 + sent_avg.l9 + sent_avg.l10 + engsent_var.l10 \n",
       "\n",
       "                  Estimate Std. Error t value Pr(>|t|)    \n",
       "r.l3            -2.8545771  1.0036562  -2.844  0.00554 ** \n",
       "engsent_avg.l3   0.0076982  0.0031975   2.408  0.01815 *  \n",
       "sent_var.l4      0.5884584  0.1427327   4.123 8.45e-05 ***\n",
       "eng_avg.l4       0.0117345  0.0041350   2.838  0.00564 ** \n",
       "engsent_var.l4  -0.0004605  0.0001705  -2.700  0.00832 ** \n",
       "eng_avg.l6      -0.0078552  0.0038759  -2.027  0.04572 *  \n",
       "engsent_var.l6   0.0002951  0.0001184   2.494  0.01451 *  \n",
       "d_vol.l7         0.1920606  0.0900187   2.134  0.03566 *  \n",
       "sent_avg.l9      0.3276149  0.1247027   2.627  0.01016 *  \n",
       "sent_avg.l10    -0.2669556  0.1248641  -2.138  0.03529 *  \n",
       "engsent_var.l10 -0.0002011  0.0000923  -2.179  0.03201 *  \n",
       "---\n",
       "Signif. codes:  0 '***' 0.001 '**' 0.01 '*' 0.05 '.' 0.1 ' ' 1\n",
       "\n",
       "\n",
       "Residual standard error: 0.1661 on 88 degrees of freedom\n",
       "Multiple R-Squared: 0.7996,\tAdjusted R-squared: 0.7746 \n",
       "F-statistic: 31.93 on 11 and 88 DF,  p-value: < 2.2e-16 \n",
       "\n",
       "\n",
       "Estimation results for equation eng_avg: \n",
       "======================================== \n",
       "eng_avg = r.l1 + sent_var.l1 + engsent_avg.l1 + engsent_var.l1 + r.l2 + d_vol.l2 + sent_var.l2 + d_vol.l3 + eng_avg.l3 + d_vol.l4 + sent_avg.l4 + eng_avg.l4 + engsent_var.l4 + d_vol.l5 + sent_avg.l5 + eng_avg.l5 + engsent_avg.l5 + r.l6 + d_vol.l6 + engsent_avg.l6 + r.l7 + d_vol.l7 + r.l8 + eng_avg.l8 + eng_var.l8 + engsent_avg.l8 + r.l9 + sent_avg.l9 + engsent_avg.l9 + engsent_var.l9 + d_vol.l10 \n",
       "\n",
       "                 Estimate Std. Error t value Pr(>|t|)    \n",
       "r.l1            61.563606  26.407760   2.331 0.022711 *  \n",
       "sent_var.l1     26.278216   4.685371   5.609 4.05e-07 ***\n",
       "engsent_avg.l1   0.663226   0.101991   6.503 1.10e-08 ***\n",
       "engsent_var.l1  -0.014302   0.003892  -3.675 0.000471 ***\n",
       "r.l2            58.982147  25.443956   2.318 0.023458 *  \n",
       "d_vol.l2        -8.019509   2.641809  -3.036 0.003400 ** \n",
       "sent_var.l2      8.919713   2.283595   3.906 0.000218 ***\n",
       "d_vol.l3        -7.558579   2.342592  -3.227 0.001928 ** \n",
       "eng_avg.l3      -0.186791   0.089598  -2.085 0.040849 *  \n",
       "d_vol.l4        -7.815014   2.384731  -3.277 0.001654 ** \n",
       "sent_avg.l4    -18.462895   4.220696  -4.374 4.29e-05 ***\n",
       "eng_avg.l4       0.334336   0.104275   3.206 0.002050 ** \n",
       "engsent_var.l4  -0.013119   0.003173  -4.134 1.00e-04 ***\n",
       "d_vol.l5        -6.409208   2.348302  -2.729 0.008073 ** \n",
       "sent_avg.l5     28.265448   5.598412   5.049 3.55e-06 ***\n",
       "eng_avg.l5       0.576376   0.106356   5.419 8.51e-07 ***\n",
       "engsent_avg.l5  -0.902230   0.175818  -5.132 2.59e-06 ***\n",
       "r.l6           -54.143816  24.901366  -2.174 0.033164 *  \n",
       "d_vol.l6        -8.375880   2.489499  -3.364 0.001264 ** \n",
       "engsent_avg.l6  -0.250434   0.083991  -2.982 0.003976 ** \n",
       "r.l7           -64.924809  26.990538  -2.405 0.018878 *  \n",
       "d_vol.l7        -4.944064   2.435223  -2.030 0.046247 *  \n",
       "r.l8            61.403152  28.203560   2.177 0.032944 *  \n",
       "eng_avg.l8       0.444250   0.099582   4.461 3.14e-05 ***\n",
       "eng_var.l8      -0.012090   0.004135  -2.924 0.004690 ** \n",
       "engsent_avg.l8  -0.625406   0.101108  -6.186 4.02e-08 ***\n",
       "r.l9            98.670465  26.086133   3.782 0.000330 ***\n",
       "sent_avg.l9     29.957713   6.552455   4.572 2.10e-05 ***\n",
       "engsent_avg.l9  -0.879692   0.168289  -5.227 1.79e-06 ***\n",
       "engsent_var.l9   0.009347   0.002873   3.253 0.001778 ** \n",
       "d_vol.l10        6.084436   2.354996   2.584 0.011930 *  \n",
       "---\n",
       "Signif. codes:  0 '***' 0.001 '**' 0.01 '*' 0.05 '.' 0.1 ' ' 1\n",
       "\n",
       "\n",
       "Residual standard error: 3.648 on 68 degrees of freedom\n",
       "Multiple R-Squared: 0.9861,\tAdjusted R-squared: 0.9798 \n",
       "F-statistic: 155.8 on 31 and 68 DF,  p-value: < 2.2e-16 \n",
       "\n",
       "\n",
       "Estimation results for equation eng_var: \n",
       "======================================== \n",
       "eng_var = d_vol.l1 + sent_avg.l1 + eng_avg.l1 + sent_avg.l2 + eng_var.l2 + engsent_avg.l2 + engsent_avg.l7 + d_vol.l8 + engsent_avg.l8 + d_vol.l10 + eng_avg.l10 \n",
       "\n",
       "                 Estimate Std. Error t value Pr(>|t|)    \n",
       "d_vol.l1        114.17729   49.27231   2.317 0.022810 *  \n",
       "sent_avg.l1    -206.98734   61.00958  -3.393 0.001039 ** \n",
       "eng_avg.l1       10.46350    1.38661   7.546 3.88e-11 ***\n",
       "sent_avg.l2     406.17680  104.28699   3.895 0.000191 ***\n",
       "eng_var.l2        0.28211    0.07913   3.565 0.000590 ***\n",
       "engsent_avg.l2  -15.96286    2.98774  -5.343 7.11e-07 ***\n",
       "engsent_avg.l7    3.69976    1.73356   2.134 0.035608 *  \n",
       "d_vol.l8       -108.32606   48.48945  -2.234 0.028017 *  \n",
       "engsent_avg.l8   -9.57994    1.93676  -4.946 3.60e-06 ***\n",
       "d_vol.l10       125.66537   50.68942   2.479 0.015077 *  \n",
       "eng_avg.l10       4.25401    1.30096   3.270 0.001537 ** \n",
       "---\n",
       "Signif. codes:  0 '***' 0.001 '**' 0.01 '*' 0.05 '.' 0.1 ' ' 1\n",
       "\n",
       "\n",
       "Residual standard error: 90.07 on 88 degrees of freedom\n",
       "Multiple R-Squared: 0.9119,\tAdjusted R-squared: 0.9009 \n",
       "F-statistic: 82.79 on 11 and 88 DF,  p-value: < 2.2e-16 \n",
       "\n",
       "\n",
       "Estimation results for equation engsent_avg: \n",
       "============================================ \n",
       "engsent_avg = eng_avg.l1 + sent_avg.l3 + engsent_avg.l3 + d_vol.l4 + sent_avg.l4 + sent_var.l4 + eng_var.l4 + r.l5 + sent_avg.l5 + eng_avg.l5 + eng_var.l5 + engsent_avg.l5 + engsent_var.l5 + eng_avg.l6 + engsent_avg.l6 + engsent_var.l6 + d_vol.l7 + engsent_avg.l7 + eng_avg.l9 + engsent_var.l9 + sent_avg.l10 + eng_var.l10 + engsent_avg.l10 \n",
       "\n",
       "                 Estimate Std. Error t value Pr(>|t|)    \n",
       "eng_avg.l1       0.166201   0.077660   2.140 0.035553 *  \n",
       "sent_avg.l3     14.889300   4.697589   3.170 0.002201 ** \n",
       "engsent_avg.l3  -0.359364   0.127445  -2.820 0.006126 ** \n",
       "d_vol.l4        -5.047932   2.199538  -2.295 0.024494 *  \n",
       "sent_avg.l4     -9.031379   4.142354  -2.180 0.032334 *  \n",
       "sent_var.l4     -8.379102   3.294416  -2.543 0.013008 *  \n",
       "eng_var.l4      -0.009465   0.003969  -2.385 0.019572 *  \n",
       "r.l5            74.405443  24.680244   3.015 0.003494 ** \n",
       "sent_avg.l5     26.898500   5.833857   4.611 1.59e-05 ***\n",
       "eng_avg.l5       0.440772   0.157209   2.804 0.006408 ** \n",
       "eng_var.l5      -0.016914   0.004877  -3.468 0.000866 ***\n",
       "engsent_avg.l5  -0.479647   0.186949  -2.566 0.012267 *  \n",
       "engsent_var.l5   0.009888   0.004011   2.465 0.015940 *  \n",
       "eng_avg.l6       0.799260   0.158589   5.040 3.07e-06 ***\n",
       "engsent_avg.l6  -0.630996   0.126655  -4.982 3.85e-06 ***\n",
       "engsent_var.l6  -0.023118   0.003776  -6.123 3.74e-08 ***\n",
       "d_vol.l7        -4.883451   2.258150  -2.163 0.033718 *  \n",
       "engsent_avg.l7  -0.224494   0.092620  -2.424 0.017736 *  \n",
       "eng_avg.l9      -0.530268   0.106373  -4.985 3.80e-06 ***\n",
       "engsent_var.l9   0.015296   0.003099   4.935 4.61e-06 ***\n",
       "sent_avg.l10    16.685568   5.514209   3.026 0.003382 ** \n",
       "eng_var.l10      0.010605   0.004138   2.563 0.012366 *  \n",
       "engsent_avg.l10 -0.475745   0.167352  -2.843 0.005740 ** \n",
       "---\n",
       "Signif. codes:  0 '***' 0.001 '**' 0.01 '*' 0.05 '.' 0.1 ' ' 1\n",
       "\n",
       "\n",
       "Residual standard error: 3.941 on 76 degrees of freedom\n",
       "Multiple R-Squared: 0.9448,\tAdjusted R-squared: 0.9281 \n",
       "F-statistic: 56.57 on 23 and 76 DF,  p-value: < 2.2e-16 \n",
       "\n",
       "\n",
       "Estimation results for equation engsent_var: \n",
       "============================================ \n",
       "engsent_var = sent_avg.l2 + sent_var.l2 + eng_avg.l2 + engsent_avg.l2 + sent_avg.l3 + engsent_avg.l3 + eng_avg.l6 + engsent_avg.l8 + d_vol.l10 \n",
       "\n",
       "               Estimate Std. Error t value Pr(>|t|)    \n",
       "sent_avg.l2    1039.297    214.433   4.847 5.21e-06 ***\n",
       "sent_var.l2     423.208    125.580   3.370  0.00111 ** \n",
       "eng_avg.l2       14.234      4.244   3.354  0.00117 ** \n",
       "engsent_avg.l2  -24.879      7.463  -3.334  0.00125 ** \n",
       "sent_avg.l3    -528.275    176.485  -2.993  0.00356 ** \n",
       "engsent_avg.l3   12.116      5.142   2.356  0.02063 *  \n",
       "eng_avg.l6       -6.552      2.946  -2.224  0.02863 *  \n",
       "engsent_avg.l8   -8.049      3.451  -2.333  0.02190 *  \n",
       "d_vol.l10       226.442     91.034   2.487  0.01471 *  \n",
       "---\n",
       "Signif. codes:  0 '***' 0.001 '**' 0.01 '*' 0.05 '.' 0.1 ' ' 1\n",
       "\n",
       "\n",
       "Residual standard error: 167.7 on 90 degrees of freedom\n",
       "Multiple R-Squared: 0.8225,\tAdjusted R-squared: 0.8048 \n",
       "F-statistic: 46.35 on 9 and 90 DF,  p-value: < 2.2e-16 \n",
       "\n",
       "\n",
       "\n",
       "Covariance matrix of residuals:\n",
       "                     r      d_vol   sent_avg   sent_var   eng_avg    eng_var\n",
       "r            0.0009778  -0.001687  -0.001622 -0.0003177  -0.01831    -0.6519\n",
       "d_vol       -0.0016873   0.084305   0.005752 -0.0110070  -0.18671     2.0449\n",
       "sent_avg    -0.0016224   0.005752   0.048397 -0.0359688   0.12807     6.4968\n",
       "sent_var    -0.0003177  -0.011007  -0.035969  0.1277847   0.46126     5.8522\n",
       "eng_avg     -0.0183067  -0.186712   0.128071  0.4612631  47.60785   289.6937\n",
       "eng_var     -0.6519115   2.044938   6.496781  5.8521660 289.69367 37572.0375\n",
       "engsent_avg -0.0228608   0.266056   0.992561 -1.0906141  13.51644   145.1517\n",
       "engsent_var  0.1001996 -10.346236 -13.911604 72.7798160 931.81837 24283.5583\n",
       "            engsent_avg engsent_var\n",
       "r              -0.02286   1.002e-01\n",
       "d_vol           0.26606  -1.035e+01\n",
       "sent_avg        0.99256  -1.391e+01\n",
       "sent_var       -1.09061   7.278e+01\n",
       "eng_avg        13.51644   9.318e+02\n",
       "eng_var       145.15170   2.428e+04\n",
       "engsent_avg    62.13092  -7.535e+02\n",
       "engsent_var  -753.47277   1.331e+05\n",
       "\n",
       "Correlation matrix of residuals:\n",
       "                    r    d_vol sent_avg sent_var  eng_avg  eng_var engsent_avg\n",
       "r            1.000000 -0.18584 -0.23584 -0.02842 -0.08485 -0.10756    -0.09275\n",
       "d_vol       -0.185841  1.00000  0.09005 -0.10605 -0.09320  0.03633     0.11625\n",
       "sent_avg    -0.235844  0.09005  1.00000 -0.45738  0.08437  0.15236     0.57239\n",
       "sent_var    -0.028424 -0.10605 -0.45738  1.00000  0.18701  0.08446    -0.38706\n",
       "eng_avg     -0.084851 -0.09320  0.08437  0.18701  1.00000  0.21660     0.24852\n",
       "eng_var     -0.107557  0.03633  0.15236  0.08446  0.21660  1.00000     0.09500\n",
       "engsent_avg -0.092752  0.11625  0.57239 -0.38706  0.24852  0.09500     1.00000\n",
       "engsent_var  0.008784 -0.09768 -0.17334  0.55810  0.37020  0.34342    -0.26203\n",
       "            engsent_var\n",
       "r              0.008784\n",
       "d_vol         -0.097678\n",
       "sent_avg      -0.173345\n",
       "sent_var       0.558101\n",
       "eng_avg        0.370197\n",
       "eng_var        0.343417\n",
       "engsent_avg   -0.262032\n",
       "engsent_var    1.000000\n",
       "\n"
      ]
     },
     "metadata": {},
     "output_type": "display_data"
    },
    {
     "data": {
      "image/png": "[encoded data removed]",
      "text/plain": [
       "plot without title"
      ]
     },
     "metadata": {
      "image/png": {
       "height": 420,
       "width": 420
      }
     },
     "output_type": "display_data"
    },
    {
     "data": {
      "image/png": "[encoded data removed]",
      "text/plain": [
       "plot without title"
      ]
     },
     "metadata": {
      "image/png": {
       "height": 420,
       "width": 420
      }
     },
     "output_type": "display_data"
    },
    {
     "data": {
      "image/png": "[encoded data removed]",
      "text/plain": [
       "plot without title"
      ]
     },
     "metadata": {
      "image/png": {
       "height": 420,
       "width": 420
      }
     },
     "output_type": "display_data"
    },
    {
     "data": {
      "image/png": "[encoded data removed]",
      "text/plain": [
       "plot without title"
      ]
     },
     "metadata": {
      "image/png": {
       "height": 420,
       "width": 420
      }
     },
     "output_type": "display_data"
    },
    {
     "data": {
      "image/png": "[encoded data removed]",
      "text/plain": [
       "plot without title"
      ]
     },
     "metadata": {
      "image/png": {
       "height": 420,
       "width": 420
      }
     },
     "output_type": "display_data"
    },
    {
     "data": {
      "image/png": "[encoded data removed]",
      "text/plain": [
       "plot without title"
      ]
     },
     "metadata": {
      "image/png": {
       "height": 420,
       "width": 420
      }
     },
     "output_type": "display_data"
    },
    {
     "data": {
      "image/png": "[encoded data removed]",
      "text/plain": [
       "plot without title"
      ]
     },
     "metadata": {
      "image/png": {
       "height": 420,
       "width": 420
      }
     },
     "output_type": "display_data"
    },
    {
     "data": {
      "image/png": "[encoded data removed]",
      "text/plain": [
       "plot without title"
      ]
     },
     "metadata": {
      "image/png": {
       "height": 420,
       "width": 420
      }
     },
     "output_type": "display_data"
    }
   ],
   "source": [
    "var_1 <- VAR(df_train, p = 10,  type = \"none\")\n",
    "\n",
    "var_2 <- restrict(var_1, method = \"ser\")\n",
    "summary(var_2)\n",
    "\n",
    "var_irf <- irf(var_2, response = \"r\")\n",
    "plot(var_irf)"
   ]
  },
  {
   "cell_type": "markdown",
   "id": "f5511894",
   "metadata": {},
   "source": [
    " "
   ]
  },
  {
   "cell_type": "code",
   "execution_count": 226,
   "id": "70290ba6",
   "metadata": {
    "vscode": {
     "languageId": "r"
    }
   },
   "outputs": [
    {
     "data": {
      "text/plain": [
       "\n",
       "VAR Estimation Results:\n",
       "========================= \n",
       "Endogenous variables: r, d_vol \n",
       "Deterministic variables: const \n",
       "Sample size: 102 \n",
       "Log Likelihood: 307.852 \n",
       "Roots of the characteristic polynomial:\n",
       "0.8289 0.8289 0.8238 0.8238 0.8049 0.8025 0.8025 0.7651 0.7651 0.7277 0.7277 0.6611     0     0\n",
       "Call:\n",
       "VAR(y = df_end_train, p = 7, exogen = df_ex_train)\n",
       "\n",
       "\n",
       "Estimation results for equation r: \n",
       "================================== \n",
       "r = r.l5 + d_vol.l7 \n",
       "\n",
       "          Estimate Std. Error t value Pr(>|t|)  \n",
       "r.l5     -0.215740   0.094459  -2.284   0.0245 *\n",
       "d_vol.l7 -0.021266   0.008211  -2.590   0.0110 *\n",
       "---\n",
       "Signif. codes:  0 '***' 0.001 '**' 0.01 '*' 0.05 '.' 0.1 ' ' 1\n",
       "\n",
       "\n",
       "Residual standard error: 0.01617 on 100 degrees of freedom\n",
       "Multiple R-Squared: 0.1022,\tAdjusted R-squared: 0.08425 \n",
       "F-statistic: 5.692 on 2 and 100 DF,  p-value: 0.004559 \n",
       "\n",
       "\n",
       "Estimation results for equation d_vol: \n",
       "====================================== \n",
       "d_vol = d_vol.l2 + d_vol.l4 + r.l5 \n",
       "\n",
       "         Estimate Std. Error t value Pr(>|t|)  \n",
       "d_vol.l2 -0.22925    0.09673  -2.370   0.0197 *\n",
       "d_vol.l4 -0.21010    0.09647  -2.178   0.0318 *\n",
       "r.l5     -2.32907    1.08223  -2.152   0.0338 *\n",
       "---\n",
       "Signif. codes:  0 '***' 0.001 '**' 0.01 '*' 0.05 '.' 0.1 ' ' 1\n",
       "\n",
       "\n",
       "Residual standard error: 0.1847 on 99 degrees of freedom\n",
       "Multiple R-Squared: 0.1201,\tAdjusted R-squared: 0.09339 \n",
       "F-statistic: 4.502 on 3 and 99 DF,  p-value: 0.005271 \n",
       "\n",
       "\n",
       "\n",
       "Covariance matrix of residuals:\n",
       "               r      d_vol\n",
       "r      0.0003228 -0.0006878\n",
       "d_vol -0.0006878  0.0410373\n",
       "\n",
       "Correlation matrix of residuals:\n",
       "           r  d_vol\n",
       "r      1.000 -0.189\n",
       "d_vol -0.189  1.000\n",
       "\n"
      ]
     },
     "metadata": {},
     "output_type": "display_data"
    }
   ],
   "source": [
    "#VARX model---------------\n",
    "\n",
    "x1 <- VAR(df_end_train, 7, exogen = df_ex_train)\n",
    "\n",
    "x2 <- restrict(x1, method = \"ser\")\n",
    "summary(x2)"
   ]
  }
 ],
 "metadata": {
  "kernelspec": {
   "display_name": "R",
   "language": "R",
   "name": "ir"
  },
  "language_info": {
   "codemirror_mode": "r",
   "file_extension": ".r",
   "mimetype": "text/x-r-source",
   "name": "R",
   "pygments_lexer": "r",
   "version": "4.1.3"
  }
 },
 "nbformat": 4,
 "nbformat_minor": 5
}
